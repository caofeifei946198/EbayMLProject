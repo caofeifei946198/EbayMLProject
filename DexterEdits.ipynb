{
 "cells": [
  {
   "cell_type": "code",
   "execution_count": 82,
   "metadata": {
    "collapsed": true
   },
   "outputs": [],
   "source": [
    "import sklearn\n",
    "import numpy as np\n",
    "import pandas as pd\n",
    "import collections\n",
    "import math"
   ]
  },
  {
   "cell_type": "code",
   "execution_count": 83,
   "metadata": {
    "collapsed": true
   },
   "outputs": [],
   "source": [
    "input_file = \"data/TrainingSet.csv\"\n",
    "test_file = \"data/TestSet.csv\""
   ]
  },
  {
   "cell_type": "code",
   "execution_count": 84,
   "metadata": {
    "collapsed": true
   },
   "outputs": [],
   "source": [
    "df = pd.read_csv(input_file, header = 0)"
   ]
  },
  {
   "cell_type": "code",
   "execution_count": 85,
   "metadata": {
    "collapsed": false
   },
   "outputs": [
    {
     "data": {
      "text/html": [
       "<div>\n",
       "<table border=\"1\" class=\"dataframe\">\n",
       "  <thead>\n",
       "    <tr style=\"text-align: right;\">\n",
       "      <th></th>\n",
       "      <th>EbayID</th>\n",
       "      <th>QuantitySold</th>\n",
       "      <th>Price</th>\n",
       "      <th>PricePercent</th>\n",
       "      <th>StartingBidPercent</th>\n",
       "      <th>SellerName</th>\n",
       "      <th>SellerClosePercent</th>\n",
       "      <th>Category</th>\n",
       "      <th>PersonID</th>\n",
       "      <th>StartingBid</th>\n",
       "      <th>...</th>\n",
       "      <th>AuctionHitCountAvgRatio</th>\n",
       "      <th>BestOffer</th>\n",
       "      <th>ReturnsAccepted</th>\n",
       "      <th>IsHOF</th>\n",
       "      <th>ItemListedCount</th>\n",
       "      <th>AuctionCount</th>\n",
       "      <th>AuctionSaleCount</th>\n",
       "      <th>SellerAuctionCount</th>\n",
       "      <th>SellerAuctionSaleCount</th>\n",
       "      <th>AuctionMedianPrice</th>\n",
       "    </tr>\n",
       "  </thead>\n",
       "  <tbody>\n",
       "    <tr>\n",
       "      <th>0</th>\n",
       "      <td>160983189073</td>\n",
       "      <td>1</td>\n",
       "      <td>27.25</td>\n",
       "      <td>1.4787</td>\n",
       "      <td>0.0537</td>\n",
       "      <td>petesandi</td>\n",
       "      <td>0.925926</td>\n",
       "      <td>73396</td>\n",
       "      <td>9174</td>\n",
       "      <td>0.99</td>\n",
       "      <td>...</td>\n",
       "      <td>29</td>\n",
       "      <td>1.540541</td>\n",
       "      <td>0</td>\n",
       "      <td>1</td>\n",
       "      <td>1</td>\n",
       "      <td>583</td>\n",
       "      <td>291</td>\n",
       "      <td>54</td>\n",
       "      <td>50</td>\n",
       "      <td>12.26</td>\n",
       "    </tr>\n",
       "    <tr>\n",
       "      <th>1</th>\n",
       "      <td>390549601720</td>\n",
       "      <td>1</td>\n",
       "      <td>43.00</td>\n",
       "      <td>1.4422</td>\n",
       "      <td>0.3350</td>\n",
       "      <td>graphn4fun</td>\n",
       "      <td>0.990566</td>\n",
       "      <td>27278</td>\n",
       "      <td>11046</td>\n",
       "      <td>9.99</td>\n",
       "      <td>...</td>\n",
       "      <td>55</td>\n",
       "      <td>0.404762</td>\n",
       "      <td>0</td>\n",
       "      <td>0</td>\n",
       "      <td>0</td>\n",
       "      <td>120</td>\n",
       "      <td>43</td>\n",
       "      <td>106</td>\n",
       "      <td>105</td>\n",
       "      <td>24.45</td>\n",
       "    </tr>\n",
       "    <tr>\n",
       "      <th>2</th>\n",
       "      <td>200901284676</td>\n",
       "      <td>1</td>\n",
       "      <td>11.00</td>\n",
       "      <td>0.5969</td>\n",
       "      <td>0.5426</td>\n",
       "      <td>hondo19461946</td>\n",
       "      <td>0.422131</td>\n",
       "      <td>73396</td>\n",
       "      <td>9174</td>\n",
       "      <td>10.00</td>\n",
       "      <td>...</td>\n",
       "      <td>21</td>\n",
       "      <td>0.324324</td>\n",
       "      <td>0</td>\n",
       "      <td>1</td>\n",
       "      <td>1</td>\n",
       "      <td>583</td>\n",
       "      <td>291</td>\n",
       "      <td>244</td>\n",
       "      <td>103</td>\n",
       "      <td>12.26</td>\n",
       "    </tr>\n",
       "    <tr>\n",
       "      <th>3</th>\n",
       "      <td>271162670857</td>\n",
       "      <td>0</td>\n",
       "      <td>10.00</td>\n",
       "      <td>0.5426</td>\n",
       "      <td>0.5426</td>\n",
       "      <td>winemeyer45</td>\n",
       "      <td>0.245098</td>\n",
       "      <td>73396</td>\n",
       "      <td>9174</td>\n",
       "      <td>10.00</td>\n",
       "      <td>...</td>\n",
       "      <td>26</td>\n",
       "      <td>0.270270</td>\n",
       "      <td>0</td>\n",
       "      <td>0</td>\n",
       "      <td>1</td>\n",
       "      <td>583</td>\n",
       "      <td>291</td>\n",
       "      <td>102</td>\n",
       "      <td>25</td>\n",
       "      <td>12.26</td>\n",
       "    </tr>\n",
       "    <tr>\n",
       "      <th>4</th>\n",
       "      <td>310611578768</td>\n",
       "      <td>0</td>\n",
       "      <td>9.99</td>\n",
       "      <td>1.9159</td>\n",
       "      <td>1.9159</td>\n",
       "      <td>chucksmemorabilia</td>\n",
       "      <td>0.295359</td>\n",
       "      <td>73396</td>\n",
       "      <td>17956</td>\n",
       "      <td>9.99</td>\n",
       "      <td>...</td>\n",
       "      <td>53</td>\n",
       "      <td>0.200000</td>\n",
       "      <td>0</td>\n",
       "      <td>1</td>\n",
       "      <td>0</td>\n",
       "      <td>137</td>\n",
       "      <td>44</td>\n",
       "      <td>237</td>\n",
       "      <td>70</td>\n",
       "      <td>3.02</td>\n",
       "    </tr>\n",
       "  </tbody>\n",
       "</table>\n",
       "<p>5 rows × 28 columns</p>\n",
       "</div>"
      ],
      "text/plain": [
       "         EbayID  QuantitySold  Price  PricePercent  StartingBidPercent  \\\n",
       "0  160983189073             1  27.25        1.4787              0.0537   \n",
       "1  390549601720             1  43.00        1.4422              0.3350   \n",
       "2  200901284676             1  11.00        0.5969              0.5426   \n",
       "3  271162670857             0  10.00        0.5426              0.5426   \n",
       "4  310611578768             0   9.99        1.9159              1.9159   \n",
       "\n",
       "          SellerName  SellerClosePercent  Category  PersonID  StartingBid  \\\n",
       "0          petesandi            0.925926     73396      9174         0.99   \n",
       "1         graphn4fun            0.990566     27278     11046         9.99   \n",
       "2      hondo19461946            0.422131     73396      9174        10.00   \n",
       "3        winemeyer45            0.245098     73396      9174        10.00   \n",
       "4  chucksmemorabilia            0.295359     73396     17956         9.99   \n",
       "\n",
       "          ...          AuctionHitCountAvgRatio  BestOffer  ReturnsAccepted  \\\n",
       "0         ...                               29   1.540541                0   \n",
       "1         ...                               55   0.404762                0   \n",
       "2         ...                               21   0.324324                0   \n",
       "3         ...                               26   0.270270                0   \n",
       "4         ...                               53   0.200000                0   \n",
       "\n",
       "   IsHOF  ItemListedCount  AuctionCount  AuctionSaleCount  SellerAuctionCount  \\\n",
       "0      1                1           583               291                  54   \n",
       "1      0                0           120                43                 106   \n",
       "2      1                1           583               291                 244   \n",
       "3      0                1           583               291                 102   \n",
       "4      1                0           137                44                 237   \n",
       "\n",
       "   SellerAuctionSaleCount  AuctionMedianPrice  \n",
       "0                      50               12.26  \n",
       "1                     105               24.45  \n",
       "2                     103               12.26  \n",
       "3                      25               12.26  \n",
       "4                      70                3.02  \n",
       "\n",
       "[5 rows x 28 columns]"
      ]
     },
     "execution_count": 85,
     "metadata": {},
     "output_type": "execute_result"
    }
   ],
   "source": [
    "dayDict = {\"Monday\": 0, \"Tuesday\": 1, \"Wednesday\": 2, \"Thursday\": 3, \"Friday\": 4, \"Saturday\": 5, \"Sunday\": 6}\n",
    "df[\"EndDay\"] = df[\"EndDay\"].map(lambda d: dayDict[d])\n",
    "df.head()"
   ]
  },
  {
   "cell_type": "code",
   "execution_count": 86,
   "metadata": {
    "collapsed": true
   },
   "outputs": [],
   "source": [
    "#Splitting QuantitySold into two separate fields.\n",
    "zeros = df[df.QuantitySold == 0]\n",
    "ones = df[df.QuantitySold == 1]"
   ]
  },
  {
   "cell_type": "code",
   "execution_count": 87,
   "metadata": {
    "collapsed": false
   },
   "outputs": [],
   "source": [
    "#newdf = zeros[:79755] + ones\n",
    "a = zeros\n",
    "b = a.loc[:79755]\n",
    "df3 = pd.concat([b,ones], axis=0)"
   ]
  },
  {
   "cell_type": "code",
   "execution_count": null,
   "metadata": {
    "collapsed": false
   },
   "outputs": [],
   "source": []
  },
  {
   "cell_type": "code",
   "execution_count": null,
   "metadata": {
    "collapsed": false
   },
   "outputs": [],
   "source": []
  },
  {
   "cell_type": "code",
   "execution_count": 88,
   "metadata": {
    "collapsed": false
   },
   "outputs": [
    {
     "data": {
      "text/html": [
       "<div>\n",
       "<table border=\"1\" class=\"dataframe\">\n",
       "  <thead>\n",
       "    <tr style=\"text-align: right;\">\n",
       "      <th></th>\n",
       "      <th>Price</th>\n",
       "      <th>PricePercent</th>\n",
       "      <th>StartingBidPercent</th>\n",
       "      <th>SellerClosePercent</th>\n",
       "      <th>Category</th>\n",
       "      <th>StartingBid</th>\n",
       "      <th>AvgPrice</th>\n",
       "      <th>EndDay</th>\n",
       "      <th>HitCount</th>\n",
       "      <th>AuctionAvgHitCount</th>\n",
       "      <th>AuctionHitCountAvgRatio</th>\n",
       "      <th>BestOffer</th>\n",
       "      <th>AuctionCount</th>\n",
       "      <th>AuctionSaleCount</th>\n",
       "      <th>AuctionMedianPrice</th>\n",
       "    </tr>\n",
       "  </thead>\n",
       "  <tbody>\n",
       "    <tr>\n",
       "      <th>3</th>\n",
       "      <td>10.00</td>\n",
       "      <td>0.5426</td>\n",
       "      <td>0.5426</td>\n",
       "      <td>0.245098</td>\n",
       "      <td>73396</td>\n",
       "      <td>10.00</td>\n",
       "      <td>18.4273</td>\n",
       "      <td>0.000000</td>\n",
       "      <td>10</td>\n",
       "      <td>37</td>\n",
       "      <td>26</td>\n",
       "      <td>0.270270</td>\n",
       "      <td>583</td>\n",
       "      <td>291</td>\n",
       "      <td>12.26</td>\n",
       "    </tr>\n",
       "    <tr>\n",
       "      <th>4</th>\n",
       "      <td>9.99</td>\n",
       "      <td>1.9159</td>\n",
       "      <td>1.9159</td>\n",
       "      <td>0.295359</td>\n",
       "      <td>73396</td>\n",
       "      <td>9.99</td>\n",
       "      <td>5.2142</td>\n",
       "      <td>0.000000</td>\n",
       "      <td>10</td>\n",
       "      <td>50</td>\n",
       "      <td>53</td>\n",
       "      <td>0.200000</td>\n",
       "      <td>137</td>\n",
       "      <td>44</td>\n",
       "      <td>3.02</td>\n",
       "    </tr>\n",
       "    <tr>\n",
       "      <th>6</th>\n",
       "      <td>49.99</td>\n",
       "      <td>2.7128</td>\n",
       "      <td>2.7128</td>\n",
       "      <td>0.044444</td>\n",
       "      <td>73396</td>\n",
       "      <td>49.99</td>\n",
       "      <td>18.4273</td>\n",
       "      <td>0.141120</td>\n",
       "      <td>8</td>\n",
       "      <td>37</td>\n",
       "      <td>30</td>\n",
       "      <td>0.216216</td>\n",
       "      <td>583</td>\n",
       "      <td>291</td>\n",
       "      <td>12.26</td>\n",
       "    </tr>\n",
       "    <tr>\n",
       "      <th>7</th>\n",
       "      <td>1.99</td>\n",
       "      <td>0.8644</td>\n",
       "      <td>0.8644</td>\n",
       "      <td>0.267606</td>\n",
       "      <td>73406</td>\n",
       "      <td>1.99</td>\n",
       "      <td>2.3020</td>\n",
       "      <td>0.841471</td>\n",
       "      <td>6</td>\n",
       "      <td>45</td>\n",
       "      <td>9</td>\n",
       "      <td>0.133333</td>\n",
       "      <td>61</td>\n",
       "      <td>13</td>\n",
       "      <td>2.25</td>\n",
       "    </tr>\n",
       "    <tr>\n",
       "      <th>8</th>\n",
       "      <td>9.99</td>\n",
       "      <td>1.9980</td>\n",
       "      <td>1.9980</td>\n",
       "      <td>0.038315</td>\n",
       "      <td>27278</td>\n",
       "      <td>9.99</td>\n",
       "      <td>5.0000</td>\n",
       "      <td>0.841471</td>\n",
       "      <td>4</td>\n",
       "      <td>15</td>\n",
       "      <td>11</td>\n",
       "      <td>0.266667</td>\n",
       "      <td>13</td>\n",
       "      <td>1</td>\n",
       "      <td>5.00</td>\n",
       "    </tr>\n",
       "  </tbody>\n",
       "</table>\n",
       "</div>"
      ],
      "text/plain": [
       "   Price  PricePercent  StartingBidPercent  SellerClosePercent  Category  \\\n",
       "3  10.00        0.5426              0.5426            0.245098     73396   \n",
       "4   9.99        1.9159              1.9159            0.295359     73396   \n",
       "6  49.99        2.7128              2.7128            0.044444     73396   \n",
       "7   1.99        0.8644              0.8644            0.267606     73406   \n",
       "8   9.99        1.9980              1.9980            0.038315     27278   \n",
       "\n",
       "   StartingBid  AvgPrice    EndDay  HitCount  AuctionAvgHitCount  \\\n",
       "3        10.00   18.4273  0.000000        10                  37   \n",
       "4         9.99    5.2142  0.000000        10                  50   \n",
       "6        49.99   18.4273  0.141120         8                  37   \n",
       "7         1.99    2.3020  0.841471         6                  45   \n",
       "8         9.99    5.0000  0.841471         4                  15   \n",
       "\n",
       "   AuctionHitCountAvgRatio  BestOffer  AuctionCount  AuctionSaleCount  \\\n",
       "3                       26   0.270270           583               291   \n",
       "4                       53   0.200000           137                44   \n",
       "6                       30   0.216216           583               291   \n",
       "7                        9   0.133333            61                13   \n",
       "8                       11   0.266667            13                 1   \n",
       "\n",
       "   AuctionMedianPrice  \n",
       "3               12.26  \n",
       "4                3.02  \n",
       "6               12.26  \n",
       "7                2.25  \n",
       "8                5.00  "
      ]
     },
     "execution_count": 88,
     "metadata": {},
     "output_type": "execute_result"
    }
   ],
   "source": [
    "X = df3[[\"Price\",\"PricePercent\",\"StartingBidPercent\",\"SellerClosePercent\",\"Category\",\"StartingBid\",\"AvgPrice\",\"EndDay\",\"HitCount\",\"AuctionAvgHitCount\",\"AuctionHitCountAvgRatio\",\"BestOffer\",\"AuctionCount\",\"AuctionSaleCount\",\"AuctionMedianPrice\"]]\n",
    "X.head()"
   ]
  },
  {
   "cell_type": "code",
   "execution_count": null,
   "metadata": {
    "collapsed": false
   },
   "outputs": [],
   "source": []
  },
  {
   "cell_type": "code",
   "execution_count": 89,
   "metadata": {
    "collapsed": false
   },
   "outputs": [
    {
     "data": {
      "text/plain": [
       "3    0\n",
       "4    0\n",
       "6    0\n",
       "7    0\n",
       "8    0\n",
       "Name: QuantitySold, dtype: int64"
      ]
     },
     "execution_count": 89,
     "metadata": {},
     "output_type": "execute_result"
    }
   ],
   "source": [
    "Y = df3[\"QuantitySold\"]\n",
    "Y.head()"
   ]
  },
  {
   "cell_type": "code",
   "execution_count": 90,
   "metadata": {
    "collapsed": true
   },
   "outputs": [],
   "source": [
    "from sklearn import neighbors"
   ]
  },
  {
   "cell_type": "code",
   "execution_count": 91,
   "metadata": {
    "collapsed": true
   },
   "outputs": [],
   "source": [
    "knn = neighbors.KNeighborsClassifier(5)"
   ]
  },
  {
   "cell_type": "code",
   "execution_count": 92,
   "metadata": {
    "collapsed": false
   },
   "outputs": [
    {
     "data": {
      "text/plain": [
       "KNeighborsClassifier(algorithm='auto', leaf_size=30, metric='minkowski',\n",
       "           metric_params=None, n_jobs=1, n_neighbors=5, p=2,\n",
       "           weights='uniform')"
      ]
     },
     "execution_count": 92,
     "metadata": {},
     "output_type": "execute_result"
    }
   ],
   "source": [
    "knn.fit(X, Y)"
   ]
  },
  {
   "cell_type": "code",
   "execution_count": 93,
   "metadata": {
    "collapsed": false
   },
   "outputs": [
    {
     "data": {
      "text/html": [
       "<div>\n",
       "<table border=\"1\" class=\"dataframe\">\n",
       "  <thead>\n",
       "    <tr style=\"text-align: right;\">\n",
       "      <th></th>\n",
       "      <th>EbayID</th>\n",
       "      <th>QuantitySold</th>\n",
       "      <th>Price</th>\n",
       "      <th>PricePercent</th>\n",
       "      <th>StartingBidPercent</th>\n",
       "      <th>SellerName</th>\n",
       "      <th>SellerClosePercent</th>\n",
       "      <th>Category</th>\n",
       "      <th>PersonID</th>\n",
       "      <th>StartingBid</th>\n",
       "      <th>...</th>\n",
       "      <th>AuctionHitCountAvgRatio</th>\n",
       "      <th>BestOffer</th>\n",
       "      <th>ReturnsAccepted</th>\n",
       "      <th>IsHOF</th>\n",
       "      <th>ItemListedCount</th>\n",
       "      <th>AuctionCount</th>\n",
       "      <th>AuctionSaleCount</th>\n",
       "      <th>SellerAuctionCount</th>\n",
       "      <th>SellerAuctionSaleCount</th>\n",
       "      <th>AuctionMedianPrice</th>\n",
       "    </tr>\n",
       "  </thead>\n",
       "  <tbody>\n",
       "    <tr>\n",
       "      <th>0</th>\n",
       "      <td>400476160084</td>\n",
       "      <td>0</td>\n",
       "      <td>0.99</td>\n",
       "      <td>0.5892</td>\n",
       "      <td>0.5892</td>\n",
       "      <td>harryjean0</td>\n",
       "      <td>0.128269</td>\n",
       "      <td>73409</td>\n",
       "      <td>8215</td>\n",
       "      <td>0.99</td>\n",
       "      <td>...</td>\n",
       "      <td>6</td>\n",
       "      <td>0.064103</td>\n",
       "      <td>0</td>\n",
       "      <td>1</td>\n",
       "      <td>0</td>\n",
       "      <td>79</td>\n",
       "      <td>7</td>\n",
       "      <td>2791</td>\n",
       "      <td>358</td>\n",
       "      <td>0.99</td>\n",
       "    </tr>\n",
       "    <tr>\n",
       "      <th>1</th>\n",
       "      <td>350785007664</td>\n",
       "      <td>0</td>\n",
       "      <td>119.00</td>\n",
       "      <td>1.1427</td>\n",
       "      <td>1.1427</td>\n",
       "      <td>rrsports23</td>\n",
       "      <td>0.116667</td>\n",
       "      <td>27260</td>\n",
       "      <td>34</td>\n",
       "      <td>119.00</td>\n",
       "      <td>...</td>\n",
       "      <td>25</td>\n",
       "      <td>0.077922</td>\n",
       "      <td>0</td>\n",
       "      <td>1</td>\n",
       "      <td>1</td>\n",
       "      <td>1819</td>\n",
       "      <td>834</td>\n",
       "      <td>60</td>\n",
       "      <td>7</td>\n",
       "      <td>77.00</td>\n",
       "    </tr>\n",
       "    <tr>\n",
       "      <th>2</th>\n",
       "      <td>380629932508</td>\n",
       "      <td>1</td>\n",
       "      <td>1.75</td>\n",
       "      <td>1.0416</td>\n",
       "      <td>0.4464</td>\n",
       "      <td>mojo640</td>\n",
       "      <td>0.531599</td>\n",
       "      <td>73409</td>\n",
       "      <td>8215</td>\n",
       "      <td>0.75</td>\n",
       "      <td>...</td>\n",
       "      <td>7</td>\n",
       "      <td>0.102564</td>\n",
       "      <td>0</td>\n",
       "      <td>0</td>\n",
       "      <td>0</td>\n",
       "      <td>79</td>\n",
       "      <td>7</td>\n",
       "      <td>269</td>\n",
       "      <td>143</td>\n",
       "      <td>0.99</td>\n",
       "    </tr>\n",
       "    <tr>\n",
       "      <th>3</th>\n",
       "      <td>300896813674</td>\n",
       "      <td>1</td>\n",
       "      <td>66.00</td>\n",
       "      <td>0.6338</td>\n",
       "      <td>0.0000</td>\n",
       "      <td>mintsignatures</td>\n",
       "      <td>0.971014</td>\n",
       "      <td>27260</td>\n",
       "      <td>34</td>\n",
       "      <td>0.01</td>\n",
       "      <td>...</td>\n",
       "      <td>61</td>\n",
       "      <td>1.506494</td>\n",
       "      <td>0</td>\n",
       "      <td>1</td>\n",
       "      <td>1</td>\n",
       "      <td>1819</td>\n",
       "      <td>834</td>\n",
       "      <td>138</td>\n",
       "      <td>134</td>\n",
       "      <td>77.00</td>\n",
       "    </tr>\n",
       "    <tr>\n",
       "      <th>4</th>\n",
       "      <td>200918931232</td>\n",
       "      <td>0</td>\n",
       "      <td>9.99</td>\n",
       "      <td>0.5197</td>\n",
       "      <td>0.5197</td>\n",
       "      <td>realdealsignatures</td>\n",
       "      <td>0.187117</td>\n",
       "      <td>27285</td>\n",
       "      <td>28504</td>\n",
       "      <td>9.99</td>\n",
       "      <td>...</td>\n",
       "      <td>8</td>\n",
       "      <td>0.036364</td>\n",
       "      <td>0</td>\n",
       "      <td>1</td>\n",
       "      <td>0</td>\n",
       "      <td>202</td>\n",
       "      <td>30</td>\n",
       "      <td>326</td>\n",
       "      <td>61</td>\n",
       "      <td>11.00</td>\n",
       "    </tr>\n",
       "  </tbody>\n",
       "</table>\n",
       "<p>5 rows × 28 columns</p>\n",
       "</div>"
      ],
      "text/plain": [
       "         EbayID  QuantitySold   Price  PricePercent  StartingBidPercent  \\\n",
       "0  400476160084             0    0.99        0.5892              0.5892   \n",
       "1  350785007664             0  119.00        1.1427              1.1427   \n",
       "2  380629932508             1    1.75        1.0416              0.4464   \n",
       "3  300896813674             1   66.00        0.6338              0.0000   \n",
       "4  200918931232             0    9.99        0.5197              0.5197   \n",
       "\n",
       "           SellerName  SellerClosePercent  Category  PersonID  StartingBid  \\\n",
       "0          harryjean0            0.128269     73409      8215         0.99   \n",
       "1          rrsports23            0.116667     27260        34       119.00   \n",
       "2             mojo640            0.531599     73409      8215         0.75   \n",
       "3      mintsignatures            0.971014     27260        34         0.01   \n",
       "4  realdealsignatures            0.187117     27285     28504         9.99   \n",
       "\n",
       "          ...          AuctionHitCountAvgRatio  BestOffer  ReturnsAccepted  \\\n",
       "0         ...                                6   0.064103                0   \n",
       "1         ...                               25   0.077922                0   \n",
       "2         ...                                7   0.102564                0   \n",
       "3         ...                               61   1.506494                0   \n",
       "4         ...                                8   0.036364                0   \n",
       "\n",
       "   IsHOF  ItemListedCount  AuctionCount  AuctionSaleCount  SellerAuctionCount  \\\n",
       "0      1                0            79                 7                2791   \n",
       "1      1                1          1819               834                  60   \n",
       "2      0                0            79                 7                 269   \n",
       "3      1                1          1819               834                 138   \n",
       "4      1                0           202                30                 326   \n",
       "\n",
       "   SellerAuctionSaleCount  AuctionMedianPrice  \n",
       "0                     358                0.99  \n",
       "1                       7               77.00  \n",
       "2                     143                0.99  \n",
       "3                     134               77.00  \n",
       "4                      61               11.00  \n",
       "\n",
       "[5 rows x 28 columns]"
      ]
     },
     "execution_count": 93,
     "metadata": {},
     "output_type": "execute_result"
    }
   ],
   "source": [
    "test_df = pd.read_csv(test_file, header = 0)\n",
    "test_df[\"EndDay\"] = test_df[\"EndDay\"].map(lambda d: dayDict[d])\n",
    "test_df.head()"
   ]
  },
  {
   "cell_type": "code",
   "execution_count": 94,
   "metadata": {
    "collapsed": false
   },
   "outputs": [
    {
     "data": {
      "text/html": [
       "<div>\n",
       "<table border=\"1\" class=\"dataframe\">\n",
       "  <thead>\n",
       "    <tr style=\"text-align: right;\">\n",
       "      <th></th>\n",
       "      <th>Price</th>\n",
       "      <th>PricePercent</th>\n",
       "      <th>StartingBidPercent</th>\n",
       "      <th>SellerClosePercent</th>\n",
       "      <th>Category</th>\n",
       "      <th>StartingBid</th>\n",
       "      <th>AvgPrice</th>\n",
       "      <th>EndDay</th>\n",
       "      <th>HitCount</th>\n",
       "      <th>AuctionAvgHitCount</th>\n",
       "      <th>AuctionHitCountAvgRatio</th>\n",
       "      <th>BestOffer</th>\n",
       "      <th>AuctionCount</th>\n",
       "      <th>AuctionSaleCount</th>\n",
       "      <th>AuctionMedianPrice</th>\n",
       "    </tr>\n",
       "  </thead>\n",
       "  <tbody>\n",
       "    <tr>\n",
       "      <th>0</th>\n",
       "      <td>0.99</td>\n",
       "      <td>0.5892</td>\n",
       "      <td>0.5892</td>\n",
       "      <td>0.128269</td>\n",
       "      <td>73409</td>\n",
       "      <td>0.99</td>\n",
       "      <td>1.6800</td>\n",
       "      <td>-0.279415</td>\n",
       "      <td>5</td>\n",
       "      <td>78</td>\n",
       "      <td>6</td>\n",
       "      <td>0.064103</td>\n",
       "      <td>79</td>\n",
       "      <td>7</td>\n",
       "      <td>0.99</td>\n",
       "    </tr>\n",
       "    <tr>\n",
       "      <th>1</th>\n",
       "      <td>119.00</td>\n",
       "      <td>1.1427</td>\n",
       "      <td>1.1427</td>\n",
       "      <td>0.116667</td>\n",
       "      <td>27260</td>\n",
       "      <td>119.00</td>\n",
       "      <td>104.1330</td>\n",
       "      <td>0.000000</td>\n",
       "      <td>6</td>\n",
       "      <td>77</td>\n",
       "      <td>25</td>\n",
       "      <td>0.077922</td>\n",
       "      <td>1819</td>\n",
       "      <td>834</td>\n",
       "      <td>77.00</td>\n",
       "    </tr>\n",
       "    <tr>\n",
       "      <th>2</th>\n",
       "      <td>1.75</td>\n",
       "      <td>1.0416</td>\n",
       "      <td>0.4464</td>\n",
       "      <td>0.531599</td>\n",
       "      <td>73409</td>\n",
       "      <td>0.75</td>\n",
       "      <td>1.6800</td>\n",
       "      <td>0.141120</td>\n",
       "      <td>8</td>\n",
       "      <td>78</td>\n",
       "      <td>7</td>\n",
       "      <td>0.102564</td>\n",
       "      <td>79</td>\n",
       "      <td>7</td>\n",
       "      <td>0.99</td>\n",
       "    </tr>\n",
       "    <tr>\n",
       "      <th>3</th>\n",
       "      <td>66.00</td>\n",
       "      <td>0.6338</td>\n",
       "      <td>0.0000</td>\n",
       "      <td>0.971014</td>\n",
       "      <td>27260</td>\n",
       "      <td>0.01</td>\n",
       "      <td>104.1330</td>\n",
       "      <td>-0.958924</td>\n",
       "      <td>116</td>\n",
       "      <td>77</td>\n",
       "      <td>61</td>\n",
       "      <td>1.506494</td>\n",
       "      <td>1819</td>\n",
       "      <td>834</td>\n",
       "      <td>77.00</td>\n",
       "    </tr>\n",
       "    <tr>\n",
       "      <th>4</th>\n",
       "      <td>9.99</td>\n",
       "      <td>0.5197</td>\n",
       "      <td>0.5197</td>\n",
       "      <td>0.187117</td>\n",
       "      <td>27285</td>\n",
       "      <td>9.99</td>\n",
       "      <td>19.2203</td>\n",
       "      <td>0.141120</td>\n",
       "      <td>2</td>\n",
       "      <td>55</td>\n",
       "      <td>8</td>\n",
       "      <td>0.036364</td>\n",
       "      <td>202</td>\n",
       "      <td>30</td>\n",
       "      <td>11.00</td>\n",
       "    </tr>\n",
       "  </tbody>\n",
       "</table>\n",
       "</div>"
      ],
      "text/plain": [
       "    Price  PricePercent  StartingBidPercent  SellerClosePercent  Category  \\\n",
       "0    0.99        0.5892              0.5892            0.128269     73409   \n",
       "1  119.00        1.1427              1.1427            0.116667     27260   \n",
       "2    1.75        1.0416              0.4464            0.531599     73409   \n",
       "3   66.00        0.6338              0.0000            0.971014     27260   \n",
       "4    9.99        0.5197              0.5197            0.187117     27285   \n",
       "\n",
       "   StartingBid  AvgPrice    EndDay  HitCount  AuctionAvgHitCount  \\\n",
       "0         0.99    1.6800 -0.279415         5                  78   \n",
       "1       119.00  104.1330  0.000000         6                  77   \n",
       "2         0.75    1.6800  0.141120         8                  78   \n",
       "3         0.01  104.1330 -0.958924       116                  77   \n",
       "4         9.99   19.2203  0.141120         2                  55   \n",
       "\n",
       "   AuctionHitCountAvgRatio  BestOffer  AuctionCount  AuctionSaleCount  \\\n",
       "0                        6   0.064103            79                 7   \n",
       "1                       25   0.077922          1819               834   \n",
       "2                        7   0.102564            79                 7   \n",
       "3                       61   1.506494          1819               834   \n",
       "4                        8   0.036364           202                30   \n",
       "\n",
       "   AuctionMedianPrice  \n",
       "0                0.99  \n",
       "1               77.00  \n",
       "2                0.99  \n",
       "3               77.00  \n",
       "4               11.00  "
      ]
     },
     "execution_count": 94,
     "metadata": {},
     "output_type": "execute_result"
    }
   ],
   "source": [
    "X_test = test_df[[\"Price\",\"PricePercent\",\"StartingBidPercent\",\"SellerClosePercent\",\"Category\",\"StartingBid\",\"AvgPrice\",\"EndDay\",\"HitCount\",\"AuctionAvgHitCount\",\"AuctionHitCountAvgRatio\",\"BestOffer\",\"AuctionCount\",\"AuctionSaleCount\",\"AuctionMedianPrice\"]]\n",
    "X_test.head()"
   ]
  },
  {
   "cell_type": "code",
   "execution_count": 95,
   "metadata": {
    "collapsed": false
   },
   "outputs": [
    {
     "data": {
      "text/plain": [
       "0    0\n",
       "1    0\n",
       "2    1\n",
       "3    1\n",
       "4    0\n",
       "Name: QuantitySold, dtype: int64"
      ]
     },
     "execution_count": 95,
     "metadata": {},
     "output_type": "execute_result"
    }
   ],
   "source": [
    "Y_test = test_df[\"QuantitySold\"]\n",
    "Y_test.head()"
   ]
  },
  {
   "cell_type": "code",
   "execution_count": 96,
   "metadata": {
    "collapsed": true
   },
   "outputs": [],
   "source": [
    "Y_predicted = knn.predict(X_test)"
   ]
  },
  {
   "cell_type": "code",
   "execution_count": 97,
   "metadata": {
    "collapsed": false
   },
   "outputs": [
    {
     "data": {
      "text/plain": [
       "1    79755\n",
       "0    55333\n",
       "Name: QuantitySold, dtype: int64"
      ]
     },
     "execution_count": 97,
     "metadata": {},
     "output_type": "execute_result"
    }
   ],
   "source": [
    "Y.value_counts()\n",
    "#Y_test.value_counts()"
   ]
  },
  {
   "cell_type": "code",
   "execution_count": 98,
   "metadata": {
    "collapsed": false
   },
   "outputs": [
    {
     "data": {
      "text/plain": [
       "Counter({0: 19465, 1: 17995})"
      ]
     },
     "execution_count": 98,
     "metadata": {},
     "output_type": "execute_result"
    }
   ],
   "source": [
    "collections.Counter(Y_predicted)"
   ]
  },
  {
   "cell_type": "code",
   "execution_count": 99,
   "metadata": {
    "collapsed": true
   },
   "outputs": [],
   "source": [
    "from sklearn import metrics"
   ]
  },
  {
   "cell_type": "code",
   "execution_count": 100,
   "metadata": {
    "collapsed": false
   },
   "outputs": [
    {
     "name": "stdout",
     "output_type": "stream",
     "text": [
      "             precision    recall  f1-score   support\n",
      "\n",
      "          0       0.64      0.92      0.75     19465\n",
      "          1       0.83      0.43      0.57     17995\n",
      "\n",
      "avg / total       0.73      0.68      0.66     37460\n",
      "\n"
     ]
    }
   ],
   "source": [
    "print(metrics.classification_report(Y_predicted, Y_test))"
   ]
  },
  {
   "cell_type": "code",
   "execution_count": 101,
   "metadata": {
    "collapsed": false
   },
   "outputs": [
    {
     "name": "stdout",
     "output_type": "stream",
     "text": [
      "             precision    recall  f1-score   support\n",
      "\n",
      "          0       0.64      0.92      0.75     19465\n",
      "          1       0.83      0.43      0.57     17995\n",
      "\n",
      "avg / total       0.73      0.68      0.66     37460\n",
      "\n"
     ]
    }
   ],
   "source": [
    "#With Balanced 1s and 0s.\n",
    "#Much better at predicting a product that will be sold compared to before.\n",
    "print(metrics.classification_report(Y_predicted, Y_test))"
   ]
  },
  {
   "cell_type": "code",
   "execution_count": 102,
   "metadata": {
    "collapsed": false
   },
   "outputs": [],
   "source": [
    "##Neural Networks Baby.\n",
    "\n",
    "from sklearn.preprocessing import StandardScaler  \n",
    "scaler = StandardScaler()  \n",
    "scaler.fit(X)  \n",
    "X_train = scaler.transform(X)  \n",
    "X_test = scaler.transform(X_test)"
   ]
  },
  {
   "cell_type": "code",
   "execution_count": 103,
   "metadata": {
    "collapsed": true
   },
   "outputs": [],
   "source": [
    "from sklearn.neural_network import MLPClassifier"
   ]
  },
  {
   "cell_type": "code",
   "execution_count": 104,
   "metadata": {
    "collapsed": true
   },
   "outputs": [],
   "source": [
    "clf2 = MLPClassifier(solver='lbfgs',random_state=1)"
   ]
  },
  {
   "cell_type": "code",
   "execution_count": 105,
   "metadata": {
    "collapsed": false
   },
   "outputs": [
    {
     "data": {
      "text/plain": [
       "MLPClassifier(activation='relu', alpha=0.0001, batch_size='auto', beta_1=0.9,\n",
       "       beta_2=0.999, early_stopping=False, epsilon=1e-08,\n",
       "       hidden_layer_sizes=(100,), learning_rate='constant',\n",
       "       learning_rate_init=0.001, max_iter=200, momentum=0.9,\n",
       "       nesterovs_momentum=True, power_t=0.5, random_state=1, shuffle=True,\n",
       "       solver='lbfgs', tol=0.0001, validation_fraction=0.1, verbose=False,\n",
       "       warm_start=False)"
      ]
     },
     "execution_count": 105,
     "metadata": {},
     "output_type": "execute_result"
    }
   ],
   "source": [
    "clf2.fit(X_train,Y)"
   ]
  },
  {
   "cell_type": "code",
   "execution_count": 106,
   "metadata": {
    "collapsed": true
   },
   "outputs": [],
   "source": [
    "predicted = clf2.predict(X_test)"
   ]
  },
  {
   "cell_type": "code",
   "execution_count": 107,
   "metadata": {
    "collapsed": false
   },
   "outputs": [
    {
     "name": "stdout",
     "output_type": "stream",
     "text": [
      "             precision    recall  f1-score   support\n",
      "\n",
      "          0       0.89      0.95      0.92     26300\n",
      "          1       0.86      0.72      0.78     11160\n",
      "\n",
      "avg / total       0.88      0.88      0.88     37460\n",
      "\n"
     ]
    }
   ],
   "source": [
    "print(metrics.classification_report(predicted, Y_test))"
   ]
  },
  {
   "cell_type": "code",
   "execution_count": 108,
   "metadata": {
    "collapsed": true
   },
   "outputs": [],
   "source": [
    "#Ensemble Predictions."
   ]
  },
  {
   "cell_type": "code",
   "execution_count": 109,
   "metadata": {
    "collapsed": false
   },
   "outputs": [],
   "source": [
    "#from sklearn.ensemble import BaggingClassifier\n",
    "#from sklearn.neighbors import KNeighborsClassifier\n",
    "#bagging = BaggingClassifier(MLPClassifier(solver='lbfgs'),max_samples=0.5, max_features=0.5)"
   ]
  },
  {
   "cell_type": "code",
   "execution_count": 110,
   "metadata": {
    "collapsed": false
   },
   "outputs": [],
   "source": [
    "#bagging.fit(X_train,Y)"
   ]
  },
  {
   "cell_type": "code",
   "execution_count": 111,
   "metadata": {
    "collapsed": true
   },
   "outputs": [],
   "source": [
    "#bag_predicted = bagging.predict(X_test)"
   ]
  },
  {
   "cell_type": "code",
   "execution_count": 112,
   "metadata": {
    "collapsed": false
   },
   "outputs": [],
   "source": [
    "#print(metrics.classification_report(bag_predicted, Y_test))"
   ]
  },
  {
   "cell_type": "code",
   "execution_count": 113,
   "metadata": {
    "collapsed": true
   },
   "outputs": [],
   "source": [
    "from sklearn.ensemble import GradientBoostingClassifier"
   ]
  },
  {
   "cell_type": "code",
   "execution_count": 114,
   "metadata": {
    "collapsed": true
   },
   "outputs": [],
   "source": [
    "clf4 = GradientBoostingClassifier(n_estimators=100, learning_rate=1.0,max_depth=1, random_state=0)"
   ]
  },
  {
   "cell_type": "code",
   "execution_count": 115,
   "metadata": {
    "collapsed": false
   },
   "outputs": [
    {
     "data": {
      "text/plain": [
       "GradientBoostingClassifier(criterion='friedman_mse', init=None,\n",
       "              learning_rate=1.0, loss='deviance', max_depth=1,\n",
       "              max_features=None, max_leaf_nodes=None,\n",
       "              min_impurity_split=1e-07, min_samples_leaf=1,\n",
       "              min_samples_split=2, min_weight_fraction_leaf=0.0,\n",
       "              n_estimators=100, presort='auto', random_state=0,\n",
       "              subsample=1.0, verbose=0, warm_start=False)"
      ]
     },
     "execution_count": 115,
     "metadata": {},
     "output_type": "execute_result"
    }
   ],
   "source": [
    "clf4.fit(X_train,Y)"
   ]
  },
  {
   "cell_type": "code",
   "execution_count": 116,
   "metadata": {
    "collapsed": true
   },
   "outputs": [],
   "source": [
    "predicted = clf4.predict(X_test)"
   ]
  },
  {
   "cell_type": "code",
   "execution_count": 117,
   "metadata": {
    "collapsed": false
   },
   "outputs": [
    {
     "name": "stdout",
     "output_type": "stream",
     "text": [
      "             precision    recall  f1-score   support\n",
      "\n",
      "          0       0.88      0.95      0.91     26207\n",
      "          1       0.85      0.71      0.78     11253\n",
      "\n",
      "avg / total       0.87      0.88      0.87     37460\n",
      "\n"
     ]
    }
   ],
   "source": [
    "print(metrics.classification_report(predicted, Y_test))"
   ]
  },
  {
   "cell_type": "code",
   "execution_count": 118,
   "metadata": {
    "collapsed": false
   },
   "outputs": [],
   "source": [
    "#%matplotlib inline\n",
    "#df_num = df3.sample(frac=0.1)\n",
    "#axs = pd.scatter_matrix(df_num, figsize=(12, 12));\n",
    "\n",
    "# Rotate axis labels and remove axis ticks\n",
    "#n = len(df_num.columns)\n",
    "#for i in range(n):\n",
    "#    v = axs[i, 0]\n",
    "#    v.yaxis.label.set_rotation(0)\n",
    "#    v.yaxis.label.set_ha('right')\n",
    "#    v.set_yticks(())\n",
    "#    h = axs[n-1, i]\n",
    "#    h.xaxis.label.set_rotation(90)\n",
    "#    h.set_xticks(())"
   ]
  },
  {
   "cell_type": "code",
   "execution_count": 120,
   "metadata": {
    "collapsed": true
   },
   "outputs": [],
   "source": [
    "#Let's Vote!\n",
    "from sklearn.ensemble import VotingClassifier\n",
    "from sklearn.linear_model import LogisticRegression\n",
    "from sklearn.naive_bayes import GaussianNB\n",
    "from sklearn.ensemble import RandomForestClassifier"
   ]
  },
  {
   "cell_type": "code",
   "execution_count": 121,
   "metadata": {
    "collapsed": true
   },
   "outputs": [],
   "source": [
    "clf_1 = LogisticRegression(random_state=1)\n",
    "clf_2 = RandomForestClassifier(random_state=1)\n",
    "clf_3 = GaussianNB()"
   ]
  },
  {
   "cell_type": "code",
   "execution_count": 134,
   "metadata": {
    "collapsed": false
   },
   "outputs": [],
   "source": [
    "eclf = VotingClassifier(estimators=[('rf', clf_2), ('nn', clf2), ('gbs', clf4)], voting='hard')"
   ]
  },
  {
   "cell_type": "code",
   "execution_count": 138,
   "metadata": {
    "collapsed": false
   },
   "outputs": [
    {
     "data": {
      "text/plain": [
       "VotingClassifier(estimators=[('rf', RandomForestClassifier(bootstrap=True, class_weight=None, criterion='gini',\n",
       "            max_depth=None, max_features='auto', max_leaf_nodes=None,\n",
       "            min_impurity_split=1e-07, min_samples_leaf=1,\n",
       "            min_samples_split=2, min_weight_fraction_leaf=0.0,\n",
       "            n_...ors=100, presort='auto', random_state=0,\n",
       "              subsample=1.0, verbose=0, warm_start=False))],\n",
       "         n_jobs=1, voting='hard', weights=None)"
      ]
     },
     "execution_count": 138,
     "metadata": {},
     "output_type": "execute_result"
    }
   ],
   "source": [
    "eclf.fit(X_train,Y)"
   ]
  },
  {
   "cell_type": "code",
   "execution_count": 139,
   "metadata": {
    "collapsed": true
   },
   "outputs": [],
   "source": [
    "vote_predict = eclf.predict(X_test)"
   ]
  },
  {
   "cell_type": "code",
   "execution_count": 140,
   "metadata": {
    "collapsed": false
   },
   "outputs": [
    {
     "name": "stdout",
     "output_type": "stream",
     "text": [
      "             precision    recall  f1-score   support\n",
      "\n",
      "          0       0.89      0.95      0.92     26423\n",
      "          1       0.85      0.73      0.78     11037\n",
      "\n",
      "avg / total       0.88      0.88      0.88     37460\n",
      "\n"
     ]
    }
   ],
   "source": [
    "print(metrics.classification_report(vote_predict, Y_test))"
   ]
  },
  {
   "cell_type": "code",
   "execution_count": 130,
   "metadata": {
    "collapsed": false
   },
   "outputs": [
    {
     "data": {
      "text/plain": [
       "LogisticRegression(C=1.0, class_weight=None, dual=False, fit_intercept=True,\n",
       "          intercept_scaling=1, max_iter=100, multi_class='ovr', n_jobs=1,\n",
       "          penalty='l2', random_state=1, solver='liblinear', tol=0.0001,\n",
       "          verbose=0, warm_start=False)"
      ]
     },
     "execution_count": 130,
     "metadata": {},
     "output_type": "execute_result"
    }
   ],
   "source": [
    "eclf2 = VotingClassifier(estimators=[('lr', clf_1), ('rf', clf_2), ('gnb', clf_3)], voting='hard')"
   ]
  },
  {
   "cell_type": "code",
   "execution_count": 131,
   "metadata": {
    "collapsed": true
   },
   "outputs": [],
   "source": [
    "log_predict = clf_1.predict(X_test)"
   ]
  },
  {
   "cell_type": "code",
   "execution_count": 132,
   "metadata": {
    "collapsed": false
   },
   "outputs": [
    {
     "name": "stdout",
     "output_type": "stream",
     "text": [
      "             precision    recall  f1-score   support\n",
      "\n",
      "          0       0.88      0.95      0.91     26207\n",
      "          1       0.85      0.71      0.78     11253\n",
      "\n",
      "avg / total       0.87      0.88      0.87     37460\n",
      "\n"
     ]
    }
   ],
   "source": []
  },
  {
   "cell_type": "code",
   "execution_count": null,
   "metadata": {
    "collapsed": true
   },
   "outputs": [],
   "source": []
  }
 ],
 "metadata": {
  "anaconda-cloud": {},
  "kernelspec": {
   "display_name": "Python [conda root]",
   "language": "python",
   "name": "conda-root-py"
  },
  "language_info": {
   "codemirror_mode": {
    "name": "ipython",
    "version": 3
   },
   "file_extension": ".py",
   "mimetype": "text/x-python",
   "name": "python",
   "nbconvert_exporter": "python",
   "pygments_lexer": "ipython3",
   "version": "3.5.2"
  }
 },
 "nbformat": 4,
 "nbformat_minor": 1
}
