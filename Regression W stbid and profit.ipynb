{
 "cells": [
  {
   "cell_type": "code",
   "execution_count": 12,
   "metadata": {
    "collapsed": true
   },
   "outputs": [],
   "source": [
    "input_file = \"data/TrainingSet.csv\"\n",
    "test_file = \"data/TestSet.csv\""
   ]
  },
  {
   "cell_type": "code",
   "execution_count": 13,
   "metadata": {
    "collapsed": true
   },
   "outputs": [],
   "source": [
    "import sklearn\n",
    "import numpy as np\n",
    "import pandas as pd\n",
    "import collections\n",
    "import math\n",
    "from sklearn import neighbors\n",
    "from sklearn.ensemble import GradientBoostingClassifier\n",
    "from sklearn import preprocessing\n",
    "from sklearn import utils"
   ]
  },
  {
   "cell_type": "code",
   "execution_count": 14,
   "metadata": {
    "collapsed": false
   },
   "outputs": [
    {
     "data": {
      "text/html": [
       "<div>\n",
       "<table border=\"1\" class=\"dataframe\">\n",
       "  <thead>\n",
       "    <tr style=\"text-align: right;\">\n",
       "      <th></th>\n",
       "      <th>EbayID</th>\n",
       "      <th>QuantitySold</th>\n",
       "      <th>Price</th>\n",
       "      <th>PricePercent</th>\n",
       "      <th>StartingBidPercent</th>\n",
       "      <th>SellerName</th>\n",
       "      <th>SellerClosePercent</th>\n",
       "      <th>Category</th>\n",
       "      <th>PersonID</th>\n",
       "      <th>StartingBid</th>\n",
       "      <th>...</th>\n",
       "      <th>AuctionHitCountAvgRatio</th>\n",
       "      <th>BestOffer</th>\n",
       "      <th>ReturnsAccepted</th>\n",
       "      <th>IsHOF</th>\n",
       "      <th>ItemListedCount</th>\n",
       "      <th>AuctionCount</th>\n",
       "      <th>AuctionSaleCount</th>\n",
       "      <th>SellerAuctionCount</th>\n",
       "      <th>SellerAuctionSaleCount</th>\n",
       "      <th>AuctionMedianPrice</th>\n",
       "    </tr>\n",
       "  </thead>\n",
       "  <tbody>\n",
       "    <tr>\n",
       "      <th>0</th>\n",
       "      <td>400476160084</td>\n",
       "      <td>0</td>\n",
       "      <td>0.99</td>\n",
       "      <td>0.5892</td>\n",
       "      <td>0.5892</td>\n",
       "      <td>harryjean0</td>\n",
       "      <td>0.128269</td>\n",
       "      <td>73409</td>\n",
       "      <td>8215</td>\n",
       "      <td>0.99</td>\n",
       "      <td>...</td>\n",
       "      <td>6</td>\n",
       "      <td>0.064103</td>\n",
       "      <td>0</td>\n",
       "      <td>1</td>\n",
       "      <td>0</td>\n",
       "      <td>79</td>\n",
       "      <td>7</td>\n",
       "      <td>2791</td>\n",
       "      <td>358</td>\n",
       "      <td>0.99</td>\n",
       "    </tr>\n",
       "    <tr>\n",
       "      <th>1</th>\n",
       "      <td>350785007664</td>\n",
       "      <td>0</td>\n",
       "      <td>119.00</td>\n",
       "      <td>1.1427</td>\n",
       "      <td>1.1427</td>\n",
       "      <td>rrsports23</td>\n",
       "      <td>0.116667</td>\n",
       "      <td>27260</td>\n",
       "      <td>34</td>\n",
       "      <td>119.00</td>\n",
       "      <td>...</td>\n",
       "      <td>25</td>\n",
       "      <td>0.077922</td>\n",
       "      <td>0</td>\n",
       "      <td>1</td>\n",
       "      <td>1</td>\n",
       "      <td>1819</td>\n",
       "      <td>834</td>\n",
       "      <td>60</td>\n",
       "      <td>7</td>\n",
       "      <td>77.00</td>\n",
       "    </tr>\n",
       "    <tr>\n",
       "      <th>2</th>\n",
       "      <td>380629932508</td>\n",
       "      <td>1</td>\n",
       "      <td>1.75</td>\n",
       "      <td>1.0416</td>\n",
       "      <td>0.4464</td>\n",
       "      <td>mojo640</td>\n",
       "      <td>0.531599</td>\n",
       "      <td>73409</td>\n",
       "      <td>8215</td>\n",
       "      <td>0.75</td>\n",
       "      <td>...</td>\n",
       "      <td>7</td>\n",
       "      <td>0.102564</td>\n",
       "      <td>0</td>\n",
       "      <td>0</td>\n",
       "      <td>0</td>\n",
       "      <td>79</td>\n",
       "      <td>7</td>\n",
       "      <td>269</td>\n",
       "      <td>143</td>\n",
       "      <td>0.99</td>\n",
       "    </tr>\n",
       "    <tr>\n",
       "      <th>3</th>\n",
       "      <td>300896813674</td>\n",
       "      <td>1</td>\n",
       "      <td>66.00</td>\n",
       "      <td>0.6338</td>\n",
       "      <td>0.0000</td>\n",
       "      <td>mintsignatures</td>\n",
       "      <td>0.971014</td>\n",
       "      <td>27260</td>\n",
       "      <td>34</td>\n",
       "      <td>0.01</td>\n",
       "      <td>...</td>\n",
       "      <td>61</td>\n",
       "      <td>1.506494</td>\n",
       "      <td>0</td>\n",
       "      <td>1</td>\n",
       "      <td>1</td>\n",
       "      <td>1819</td>\n",
       "      <td>834</td>\n",
       "      <td>138</td>\n",
       "      <td>134</td>\n",
       "      <td>77.00</td>\n",
       "    </tr>\n",
       "    <tr>\n",
       "      <th>4</th>\n",
       "      <td>200918931232</td>\n",
       "      <td>0</td>\n",
       "      <td>9.99</td>\n",
       "      <td>0.5197</td>\n",
       "      <td>0.5197</td>\n",
       "      <td>realdealsignatures</td>\n",
       "      <td>0.187117</td>\n",
       "      <td>27285</td>\n",
       "      <td>28504</td>\n",
       "      <td>9.99</td>\n",
       "      <td>...</td>\n",
       "      <td>8</td>\n",
       "      <td>0.036364</td>\n",
       "      <td>0</td>\n",
       "      <td>1</td>\n",
       "      <td>0</td>\n",
       "      <td>202</td>\n",
       "      <td>30</td>\n",
       "      <td>326</td>\n",
       "      <td>61</td>\n",
       "      <td>11.00</td>\n",
       "    </tr>\n",
       "  </tbody>\n",
       "</table>\n",
       "<p>5 rows × 28 columns</p>\n",
       "</div>"
      ],
      "text/plain": [
       "         EbayID  QuantitySold   Price  PricePercent  StartingBidPercent  \\\n",
       "0  400476160084             0    0.99        0.5892              0.5892   \n",
       "1  350785007664             0  119.00        1.1427              1.1427   \n",
       "2  380629932508             1    1.75        1.0416              0.4464   \n",
       "3  300896813674             1   66.00        0.6338              0.0000   \n",
       "4  200918931232             0    9.99        0.5197              0.5197   \n",
       "\n",
       "           SellerName  SellerClosePercent  Category  PersonID  StartingBid  \\\n",
       "0          harryjean0            0.128269     73409      8215         0.99   \n",
       "1          rrsports23            0.116667     27260        34       119.00   \n",
       "2             mojo640            0.531599     73409      8215         0.75   \n",
       "3      mintsignatures            0.971014     27260        34         0.01   \n",
       "4  realdealsignatures            0.187117     27285     28504         9.99   \n",
       "\n",
       "          ...          AuctionHitCountAvgRatio  BestOffer  ReturnsAccepted  \\\n",
       "0         ...                                6   0.064103                0   \n",
       "1         ...                               25   0.077922                0   \n",
       "2         ...                                7   0.102564                0   \n",
       "3         ...                               61   1.506494                0   \n",
       "4         ...                                8   0.036364                0   \n",
       "\n",
       "   IsHOF  ItemListedCount  AuctionCount  AuctionSaleCount  SellerAuctionCount  \\\n",
       "0      1                0            79                 7                2791   \n",
       "1      1                1          1819               834                  60   \n",
       "2      0                0            79                 7                 269   \n",
       "3      1                1          1819               834                 138   \n",
       "4      1                0           202                30                 326   \n",
       "\n",
       "   SellerAuctionSaleCount  AuctionMedianPrice  \n",
       "0                     358                0.99  \n",
       "1                       7               77.00  \n",
       "2                     143                0.99  \n",
       "3                     134               77.00  \n",
       "4                      61               11.00  \n",
       "\n",
       "[5 rows x 28 columns]"
      ]
     },
     "execution_count": 14,
     "metadata": {},
     "output_type": "execute_result"
    }
   ],
   "source": [
    "df = pd.read_csv(input_file, header = 0)\n",
    "\n",
    "dayDict = {\"Monday\": 0, \"Tuesday\": 1, \"Wednesday\": 2, \"Thursday\": 3, \"Friday\": 4, \"Saturday\": 5, \"Sunday\": 6}\n",
    "\n",
    "#Wrangling the Data, With some additional constants.\n",
    "\n",
    "df[\"EndDay\"] = df[\"EndDay\"].map(lambda d: dayDict[d])\n",
    "df.head()\n",
    "\n",
    "test_df = pd.read_csv(test_file, header = 0)\n",
    "test_df[\"EndDay\"] = test_df[\"EndDay\"].map(lambda d: dayDict[d])\n",
    "test_df.head()"
   ]
  },
  {
   "cell_type": "code",
   "execution_count": 15,
   "metadata": {
    "collapsed": true
   },
   "outputs": [],
   "source": [
    "stprice_features = [\"SellerClosePercent\",\"Category\",\"AvgPrice\",\"EndDay\",\"HitCount\",\"AuctionAvgHitCount\",\"SellerSaleAvgPriceRatio\",\"SellerAvg\",\"SellerItemAvg\",\"AuctionHitCountAvgRatio\",\"IsHOF\",\"AuctionCount\",\"AuctionSaleCount\",\"SellerAuctionCount\",\"SellerAuctionSaleCount\",\"AuctionMedianPrice\"]"
   ]
  },
  {
   "cell_type": "code",
   "execution_count": null,
   "metadata": {
    "collapsed": true
   },
   "outputs": [],
   "source": [
    "profit_features = [\"SellerClosePercent\",\"Category\",\"StartingBid\",\"EndDay\",\"HitCount\",\"AuctionAvgHitCount\",\"SellerSaleAvgPriceRatio\",\"SellerAvg\",\"SellerItemAvg\",\"AuctionHitCountAvgRatio\",\"IsHOF\",\"AuctionCount\",\"AuctionSaleCount\",\"SellerAuctionCount\",\"SellerAuctionSaleCount\",\"AuctionMedianPrice\"]"
   ]
  },
  {
   "cell_type": "code",
   "execution_count": 16,
   "metadata": {
    "collapsed": false
   },
   "outputs": [
    {
     "data": {
      "text/plain": [
       "16"
      ]
     },
     "execution_count": 16,
     "metadata": {},
     "output_type": "execute_result"
    }
   ],
   "source": [
    "len(stprice_features)"
   ]
  },
  {
   "cell_type": "code",
   "execution_count": null,
   "metadata": {
    "collapsed": false
   },
   "outputs": [],
   "source": []
  },
  {
   "cell_type": "code",
   "execution_count": 17,
   "metadata": {
    "collapsed": true
   },
   "outputs": [],
   "source": [
    "sold = df[df.QuantitySold == 1]"
   ]
  },
  {
   "cell_type": "code",
   "execution_count": 18,
   "metadata": {
    "collapsed": false
   },
   "outputs": [
    {
     "data": {
      "text/html": [
       "<div>\n",
       "<table border=\"1\" class=\"dataframe\">\n",
       "  <thead>\n",
       "    <tr style=\"text-align: right;\">\n",
       "      <th></th>\n",
       "      <th>SellerClosePercent</th>\n",
       "      <th>Category</th>\n",
       "      <th>AvgPrice</th>\n",
       "      <th>EndDay</th>\n",
       "      <th>HitCount</th>\n",
       "      <th>AuctionAvgHitCount</th>\n",
       "      <th>SellerSaleAvgPriceRatio</th>\n",
       "      <th>SellerAvg</th>\n",
       "      <th>SellerItemAvg</th>\n",
       "      <th>AuctionHitCountAvgRatio</th>\n",
       "      <th>IsHOF</th>\n",
       "      <th>AuctionCount</th>\n",
       "      <th>AuctionSaleCount</th>\n",
       "      <th>SellerAuctionCount</th>\n",
       "      <th>SellerAuctionSaleCount</th>\n",
       "      <th>AuctionMedianPrice</th>\n",
       "    </tr>\n",
       "  </thead>\n",
       "  <tbody>\n",
       "    <tr>\n",
       "      <th>0</th>\n",
       "      <td>0.925926</td>\n",
       "      <td>73396</td>\n",
       "      <td>18.4273</td>\n",
       "      <td>1</td>\n",
       "      <td>57</td>\n",
       "      <td>37</td>\n",
       "      <td>0.499142</td>\n",
       "      <td>2.06</td>\n",
       "      <td>56</td>\n",
       "      <td>29</td>\n",
       "      <td>1</td>\n",
       "      <td>583</td>\n",
       "      <td>291</td>\n",
       "      <td>54</td>\n",
       "      <td>50</td>\n",
       "      <td>12.26</td>\n",
       "    </tr>\n",
       "    <tr>\n",
       "      <th>1</th>\n",
       "      <td>0.990566</td>\n",
       "      <td>27278</td>\n",
       "      <td>29.8150</td>\n",
       "      <td>6</td>\n",
       "      <td>34</td>\n",
       "      <td>84</td>\n",
       "      <td>0.358333</td>\n",
       "      <td>0.92</td>\n",
       "      <td>52</td>\n",
       "      <td>55</td>\n",
       "      <td>0</td>\n",
       "      <td>120</td>\n",
       "      <td>43</td>\n",
       "      <td>106</td>\n",
       "      <td>105</td>\n",
       "      <td>24.45</td>\n",
       "    </tr>\n",
       "    <tr>\n",
       "      <th>2</th>\n",
       "      <td>0.422131</td>\n",
       "      <td>73396</td>\n",
       "      <td>18.4273</td>\n",
       "      <td>0</td>\n",
       "      <td>12</td>\n",
       "      <td>37</td>\n",
       "      <td>0.499142</td>\n",
       "      <td>0.91</td>\n",
       "      <td>18</td>\n",
       "      <td>21</td>\n",
       "      <td>1</td>\n",
       "      <td>583</td>\n",
       "      <td>291</td>\n",
       "      <td>244</td>\n",
       "      <td>103</td>\n",
       "      <td>12.26</td>\n",
       "    </tr>\n",
       "    <tr>\n",
       "      <th>5</th>\n",
       "      <td>0.664516</td>\n",
       "      <td>27276</td>\n",
       "      <td>39.4247</td>\n",
       "      <td>0</td>\n",
       "      <td>21</td>\n",
       "      <td>82</td>\n",
       "      <td>0.489362</td>\n",
       "      <td>0.82</td>\n",
       "      <td>93</td>\n",
       "      <td>114</td>\n",
       "      <td>1</td>\n",
       "      <td>47</td>\n",
       "      <td>23</td>\n",
       "      <td>155</td>\n",
       "      <td>103</td>\n",
       "      <td>41.00</td>\n",
       "    </tr>\n",
       "    <tr>\n",
       "      <th>9</th>\n",
       "      <td>0.333333</td>\n",
       "      <td>27278</td>\n",
       "      <td>51.6793</td>\n",
       "      <td>3</td>\n",
       "      <td>11</td>\n",
       "      <td>60</td>\n",
       "      <td>0.281841</td>\n",
       "      <td>3.48</td>\n",
       "      <td>180</td>\n",
       "      <td>52</td>\n",
       "      <td>0</td>\n",
       "      <td>1586</td>\n",
       "      <td>447</td>\n",
       "      <td>3</td>\n",
       "      <td>1</td>\n",
       "      <td>36.00</td>\n",
       "    </tr>\n",
       "  </tbody>\n",
       "</table>\n",
       "</div>"
      ],
      "text/plain": [
       "   SellerClosePercent  Category  AvgPrice  EndDay  HitCount  \\\n",
       "0            0.925926     73396   18.4273       1        57   \n",
       "1            0.990566     27278   29.8150       6        34   \n",
       "2            0.422131     73396   18.4273       0        12   \n",
       "5            0.664516     27276   39.4247       0        21   \n",
       "9            0.333333     27278   51.6793       3        11   \n",
       "\n",
       "   AuctionAvgHitCount  SellerSaleAvgPriceRatio  SellerAvg  SellerItemAvg  \\\n",
       "0                  37                 0.499142       2.06             56   \n",
       "1                  84                 0.358333       0.92             52   \n",
       "2                  37                 0.499142       0.91             18   \n",
       "5                  82                 0.489362       0.82             93   \n",
       "9                  60                 0.281841       3.48            180   \n",
       "\n",
       "   AuctionHitCountAvgRatio  IsHOF  AuctionCount  AuctionSaleCount  \\\n",
       "0                       29      1           583               291   \n",
       "1                       55      0           120                43   \n",
       "2                       21      1           583               291   \n",
       "5                      114      1            47                23   \n",
       "9                       52      0          1586               447   \n",
       "\n",
       "   SellerAuctionCount  SellerAuctionSaleCount  AuctionMedianPrice  \n",
       "0                  54                      50               12.26  \n",
       "1                 106                     105               24.45  \n",
       "2                 244                     103               12.26  \n",
       "5                 155                     103               41.00  \n",
       "9                   3                       1               36.00  "
      ]
     },
     "execution_count": 18,
     "metadata": {},
     "output_type": "execute_result"
    }
   ],
   "source": [
    "X = sold[stprice_features]\n",
    "X.head()"
   ]
  },
  {
   "cell_type": "code",
   "execution_count": 19,
   "metadata": {
    "collapsed": true
   },
   "outputs": [],
   "source": [
    "Y = sold.StartingBid"
   ]
  },
  {
   "cell_type": "code",
   "execution_count": 20,
   "metadata": {
    "collapsed": true
   },
   "outputs": [],
   "source": [
    "test_sold = test_df[test_df.QuantitySold == 1]"
   ]
  },
  {
   "cell_type": "code",
   "execution_count": 21,
   "metadata": {
    "collapsed": true
   },
   "outputs": [],
   "source": [
    "X_test = test_sold[stprice_features]"
   ]
  },
  {
   "cell_type": "code",
   "execution_count": 22,
   "metadata": {
    "collapsed": false
   },
   "outputs": [],
   "source": [
    "Y_test = test_sold.StartingBid"
   ]
  },
  {
   "cell_type": "markdown",
   "metadata": {},
   "source": [
    "## Blah Blah"
   ]
  },
  {
   "cell_type": "code",
   "execution_count": 37,
   "metadata": {
    "collapsed": true
   },
   "outputs": [],
   "source": [
    "\n",
    "from sklearn.preprocessing import StandardScaler  \n",
    "scaler = StandardScaler()  \n",
    "scaler.fit(X)  \n",
    "X_train = scaler.transform(X)  \n",
    "X_test = scaler.transform(X_test)"
   ]
  },
  {
   "cell_type": "markdown",
   "metadata": {},
   "source": [
    "### Bayesian Ridge Regression"
   ]
  },
  {
   "cell_type": "code",
   "execution_count": 23,
   "metadata": {
    "collapsed": false
   },
   "outputs": [
    {
     "data": {
      "text/plain": [
       "BayesianRidge(alpha_1=1e-06, alpha_2=1e-06, compute_score=False, copy_X=True,\n",
       "       fit_intercept=True, lambda_1=1e-06, lambda_2=1e-06, n_iter=300,\n",
       "       normalize=False, tol=0.001, verbose=False)"
      ]
     },
     "execution_count": 23,
     "metadata": {},
     "output_type": "execute_result"
    }
   ],
   "source": [
    "##Neural Networks Baby.\n",
    "from sklearn import linear_model\n",
    "reg = linear_model.BayesianRidge()\n",
    "reg.fit(X, Y)"
   ]
  },
  {
   "cell_type": "code",
   "execution_count": 24,
   "metadata": {
    "collapsed": false
   },
   "outputs": [],
   "source": [
    "predicted = reg.predict(X)"
   ]
  },
  {
   "cell_type": "code",
   "execution_count": 25,
   "metadata": {
    "collapsed": false
   },
   "outputs": [],
   "source": [
    "#Checking performance.\n",
    "from sklearn import metrics"
   ]
  },
  {
   "cell_type": "code",
   "execution_count": 26,
   "metadata": {
    "collapsed": false
   },
   "outputs": [
    {
     "name": "stdout",
     "output_type": "stream",
     "text": [
      "1.0\n"
     ]
    }
   ],
   "source": [
    "print(metrics.r2_score(Y,Y))"
   ]
  },
  {
   "cell_type": "markdown",
   "metadata": {},
   "source": [
    "## Something Something Regression"
   ]
  },
  {
   "cell_type": "code",
   "execution_count": 27,
   "metadata": {
    "collapsed": false
   },
   "outputs": [
    {
     "data": {
      "text/plain": [
       "SGDRegressor(alpha=0.0001, average=False, epsilon=0.1, eta0=0.01,\n",
       "       fit_intercept=True, l1_ratio=0.15, learning_rate='invscaling',\n",
       "       loss='squared_loss', n_iter=5, penalty='l2', power_t=0.25,\n",
       "       random_state=None, shuffle=True, verbose=0, warm_start=False)"
      ]
     },
     "execution_count": 27,
     "metadata": {},
     "output_type": "execute_result"
    }
   ],
   "source": [
    "clf2 = linear_model.SGDRegressor()\n",
    "clf2.fit(X, Y)"
   ]
  },
  {
   "cell_type": "code",
   "execution_count": 28,
   "metadata": {
    "collapsed": true
   },
   "outputs": [],
   "source": [
    "SGDpredicted = clf2.predict(X)"
   ]
  },
  {
   "cell_type": "code",
   "execution_count": 29,
   "metadata": {
    "collapsed": false
   },
   "outputs": [
    {
     "name": "stdout",
     "output_type": "stream",
     "text": [
      "-2.08729436923\n"
     ]
    }
   ],
   "source": [
    "print(metrics.r2_score(SGDpredicted,Y))"
   ]
  },
  {
   "cell_type": "markdown",
   "metadata": {},
   "source": [
    "## Something Something Not Linear"
   ]
  },
  {
   "cell_type": "code",
   "execution_count": 30,
   "metadata": {
    "collapsed": false
   },
   "outputs": [],
   "source": [
    "#from sklearn.preprocessing import PolynomialFeatures\n",
    "from sklearn.ensemble import RandomForestRegressor"
   ]
  },
  {
   "cell_type": "code",
   "execution_count": 31,
   "metadata": {
    "collapsed": false
   },
   "outputs": [
    {
     "data": {
      "text/plain": [
       "RandomForestRegressor(bootstrap=True, criterion='mse', max_depth=None,\n",
       "           max_features=9, max_leaf_nodes=None, min_impurity_split=1e-07,\n",
       "           min_samples_leaf=1, min_samples_split=2,\n",
       "           min_weight_fraction_leaf=0.0, n_estimators=20, n_jobs=1,\n",
       "           oob_score=False, random_state=None, verbose=0, warm_start=False)"
      ]
     },
     "execution_count": 31,
     "metadata": {},
     "output_type": "execute_result"
    }
   ],
   "source": [
    "model = RandomForestRegressor(n_estimators=20, max_features=9)\n",
    "model.fit(X, Y)"
   ]
  },
  {
   "cell_type": "code",
   "execution_count": 32,
   "metadata": {
    "collapsed": true
   },
   "outputs": [],
   "source": [
    "predicted = model.predict(X_test)"
   ]
  },
  {
   "cell_type": "code",
   "execution_count": 33,
   "metadata": {
    "collapsed": false
   },
   "outputs": [
    {
     "name": "stdout",
     "output_type": "stream",
     "text": [
      "0.431965995564\n"
     ]
    }
   ],
   "source": [
    "print(metrics.r2_score(predicted,Y_test))"
   ]
  },
  {
   "cell_type": "markdown",
   "metadata": {},
   "source": [
    "## PyBrain Neural Network Regressor"
   ]
  },
  {
   "cell_type": "code",
   "execution_count": 34,
   "metadata": {
    "collapsed": true
   },
   "outputs": [],
   "source": [
    "#Based on http://stackoverflow.com/questions/16879928/neural-networks-regression-using-pybrain"
   ]
  },
  {
   "cell_type": "code",
   "execution_count": 35,
   "metadata": {
    "collapsed": true
   },
   "outputs": [],
   "source": [
    "from pybrain.datasets import SupervisedDataSet\n",
    "from pybrain.structure import SigmoidLayer, LinearLayer\n",
    "from pybrain.tools.shortcuts import buildNetwork"
   ]
  },
  {
   "cell_type": "code",
   "execution_count": 39,
   "metadata": {
    "collapsed": false
   },
   "outputs": [],
   "source": [
    "ds = SupervisedDataSet(16,1)\n",
    "for x, y in zip(X_train, Y):\n",
    "    ds.addSample((x), (y))"
   ]
  },
  {
   "cell_type": "code",
   "execution_count": 42,
   "metadata": {
    "collapsed": false
   },
   "outputs": [],
   "source": [
    "#----------\n",
    "# build the network\n",
    "#----------\n",
    "\n",
    "net = buildNetwork(16,\n",
    "                   100, # number of hidden units\n",
    "                   1,\n",
    "                   bias = True,\n",
    "                   hiddenclass = SigmoidLayer,\n",
    "                   outclass = LinearLayer\n",
    "                   )"
   ]
  },
  {
   "cell_type": "code",
   "execution_count": 45,
   "metadata": {
    "collapsed": false,
    "scrolled": true
   },
   "outputs": [
    {
     "name": "stdout",
     "output_type": "stream",
     "text": [
      "Total error:  192.703170168\n",
      "Total error:  192.001672989\n",
      "Total error:  197.819415042\n",
      "Total error:  195.090141542\n",
      "('train-errors:', '[192.703  , 192.002  , 197.819  , 195.09   ]')\n",
      "('valid-errors:', '[177.772  , 187.897  , 185.568  , 179.887  , 201.77   ]')\n"
     ]
    },
    {
     "data": {
      "text/plain": [
       "([192.70317016819655, 192.00167298909139],\n",
       " [177.7721522598973, 187.89737006255845, 185.56778935108881])"
      ]
     },
     "execution_count": 45,
     "metadata": {},
     "output_type": "execute_result"
    }
   ],
   "source": [
    "\n",
    "#----------\n",
    "# train\n",
    "#----------\n",
    "from pybrain.supervised.trainers import BackpropTrainer\n",
    "trainer = BackpropTrainer(net, ds, verbose = True)\n",
    "trainer.trainUntilConvergence(maxEpochs = 3)"
   ]
  },
  {
   "cell_type": "code",
   "execution_count": null,
   "metadata": {
    "collapsed": true
   },
   "outputs": [],
   "source": []
  },
  {
   "cell_type": "code",
   "execution_count": 51,
   "metadata": {
    "collapsed": false
   },
   "outputs": [],
   "source": [
    "#----------\n",
    "# evaluate\n",
    "#----------\n",
    "import pylab\n",
    "# neural net approximation\n",
    "#pylab.plot(X_train,\n",
    "#           [ net.activate([x]) for x in X_train ], linewidth = 2,\n",
    "#           color = 'blue', label = 'NN output')\n",
    "\n",
    "# target function\n",
    "#pylab.plot(X_train,\n",
    "#           Y, linewidth = 2, color = 'red', label = 'target')\n",
    "\n",
    "#pylab.grid()\n",
    "#pylab.legend()\n",
    "#pylab.show()\n",
    "\n",
    "testds = SupervisedDataSet(16,1)\n",
    "for x, y in zip(X_test, Y_test):\n",
    "    ds.addSample((x), (y))\n",
    "\n"
   ]
  },
  {
   "cell_type": "code",
   "execution_count": 68,
   "metadata": {
    "collapsed": false
   },
   "outputs": [
    {
     "data": {
      "text/plain": [
       "array([-0.11731269,  1.24161863, -0.55874823, -0.19410535, -0.62969307,\n",
       "        0.23812587, -1.49593251, -1.00637989, -0.76970295, -0.83038164,\n",
       "       -1.49898526, -0.58757868, -0.66868153, -0.41614376, -0.42713868,\n",
       "       -0.69549962])"
      ]
     },
     "execution_count": 68,
     "metadata": {},
     "output_type": "execute_result"
    }
   ],
   "source": [
    "X_test[0]"
   ]
  },
  {
   "cell_type": "code",
   "execution_count": 75,
   "metadata": {
    "collapsed": false
   },
   "outputs": [],
   "source": [
    "predicted = [net.activate(x) for x in X_test]"
   ]
  },
  {
   "cell_type": "code",
   "execution_count": 77,
   "metadata": {
    "collapsed": false
   },
   "outputs": [],
   "source": [
    "final = np.concatenate(predicted).ravel()"
   ]
  },
  {
   "cell_type": "code",
   "execution_count": 78,
   "metadata": {
    "collapsed": false
   },
   "outputs": [
    {
     "data": {
      "text/plain": [
       "array([  6.03135295,  13.12926191,  13.97581352, ...,  38.43700217,\n",
       "        29.16758083,  33.55347129])"
      ]
     },
     "execution_count": 78,
     "metadata": {},
     "output_type": "execute_result"
    }
   ],
   "source": [
    "final"
   ]
  },
  {
   "cell_type": "code",
   "execution_count": null,
   "metadata": {
    "collapsed": false
   },
   "outputs": [],
   "source": []
  },
  {
   "cell_type": "code",
   "execution_count": 80,
   "metadata": {
    "collapsed": false
   },
   "outputs": [
    {
     "name": "stdout",
     "output_type": "stream",
     "text": [
      "-0.129536029795\n"
     ]
    }
   ],
   "source": [
    "print(metrics.r2_score(final,Y_test))"
   ]
  },
  {
   "cell_type": "code",
   "execution_count": null,
   "metadata": {
    "collapsed": true
   },
   "outputs": [],
   "source": []
  }
 ],
 "metadata": {
  "kernelspec": {
   "display_name": "Python 3",
   "language": "python",
   "name": "python3"
  },
  "language_info": {
   "codemirror_mode": {
    "name": "ipython",
    "version": 3
   },
   "file_extension": ".py",
   "mimetype": "text/x-python",
   "name": "python",
   "nbconvert_exporter": "python",
   "pygments_lexer": "ipython3",
   "version": "3.5.2"
  }
 },
 "nbformat": 4,
 "nbformat_minor": 1
}
