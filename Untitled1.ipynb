{
 "cells": [
  {
   "cell_type": "code",
   "execution_count": 1,
   "metadata": {
    "collapsed": true
   },
   "outputs": [],
   "source": [
    "#----------\n",
    "# build the network\n",
    "#----------\n",
    "from pybrain.structure import SigmoidLayer, LinearLayer\n",
    "from pybrain.tools.shortcuts import buildNetwork\n",
    "\n",
    "net = buildNetwork(1,\n",
    "                   100, # number of hidden units\n",
    "                   1,\n",
    "                   bias = True,\n",
    "                   hiddenclass = SigmoidLayer,\n",
    "                   outclass = LinearLayer\n",
    "                   )"
   ]
  },
  {
   "cell_type": "code",
   "execution_count": null,
   "metadata": {
    "collapsed": true
   },
   "outputs": [],
   "source": []
  }
 ],
 "metadata": {
  "kernelspec": {
   "display_name": "Python [default]",
   "language": "python",
   "name": "python3"
  },
  "language_info": {
   "codemirror_mode": {
    "name": "ipython",
    "version": 3
   },
   "file_extension": ".py",
   "mimetype": "text/x-python",
   "name": "python",
   "nbconvert_exporter": "python",
   "pygments_lexer": "ipython3",
   "version": "3.5.2"
  }
 },
 "nbformat": 4,
 "nbformat_minor": 1
}
