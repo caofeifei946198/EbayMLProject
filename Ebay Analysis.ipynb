{
 "cells": [
  {
   "cell_type": "code",
   "execution_count": 95,
   "metadata": {
    "collapsed": true
   },
   "outputs": [],
   "source": [
    "import sklearn\n",
    "import numpy as np\n",
    "import pandas as pd\n",
    "import collections"
   ]
  },
  {
   "cell_type": "code",
   "execution_count": 96,
   "metadata": {
    "collapsed": true
   },
   "outputs": [],
   "source": [
    "input_file = \"data/TrainingSet.csv\""
   ]
  },
  {
   "cell_type": "code",
   "execution_count": 97,
   "metadata": {
    "collapsed": true
   },
   "outputs": [],
   "source": [
    "df = pd.read_csv(input_file, header = 0)"
   ]
  },
  {
   "cell_type": "code",
   "execution_count": 98,
   "metadata": {
    "collapsed": false
   },
   "outputs": [
    {
     "data": {
      "text/html": [
       "<div>\n",
       "<table border=\"1\" class=\"dataframe\">\n",
       "  <thead>\n",
       "    <tr style=\"text-align: right;\">\n",
       "      <th></th>\n",
       "      <th>EbayID</th>\n",
       "      <th>QuantitySold</th>\n",
       "      <th>Price</th>\n",
       "      <th>PricePercent</th>\n",
       "      <th>StartingBidPercent</th>\n",
       "      <th>SellerName</th>\n",
       "      <th>SellerClosePercent</th>\n",
       "      <th>Category</th>\n",
       "      <th>PersonID</th>\n",
       "      <th>StartingBid</th>\n",
       "      <th>...</th>\n",
       "      <th>AuctionHitCountAvgRatio</th>\n",
       "      <th>BestOffer</th>\n",
       "      <th>ReturnsAccepted</th>\n",
       "      <th>IsHOF</th>\n",
       "      <th>ItemListedCount</th>\n",
       "      <th>AuctionCount</th>\n",
       "      <th>AuctionSaleCount</th>\n",
       "      <th>SellerAuctionCount</th>\n",
       "      <th>SellerAuctionSaleCount</th>\n",
       "      <th>AuctionMedianPrice</th>\n",
       "    </tr>\n",
       "  </thead>\n",
       "  <tbody>\n",
       "    <tr>\n",
       "      <th>0</th>\n",
       "      <td>160983189073</td>\n",
       "      <td>1</td>\n",
       "      <td>27.25</td>\n",
       "      <td>1.4787</td>\n",
       "      <td>0.0537</td>\n",
       "      <td>petesandi</td>\n",
       "      <td>0.925926</td>\n",
       "      <td>73396</td>\n",
       "      <td>9174</td>\n",
       "      <td>0.99</td>\n",
       "      <td>...</td>\n",
       "      <td>29</td>\n",
       "      <td>1.540541</td>\n",
       "      <td>0</td>\n",
       "      <td>1</td>\n",
       "      <td>1</td>\n",
       "      <td>583</td>\n",
       "      <td>291</td>\n",
       "      <td>54</td>\n",
       "      <td>50</td>\n",
       "      <td>12.26</td>\n",
       "    </tr>\n",
       "    <tr>\n",
       "      <th>1</th>\n",
       "      <td>390549601720</td>\n",
       "      <td>1</td>\n",
       "      <td>43.00</td>\n",
       "      <td>1.4422</td>\n",
       "      <td>0.3350</td>\n",
       "      <td>graphn4fun</td>\n",
       "      <td>0.990566</td>\n",
       "      <td>27278</td>\n",
       "      <td>11046</td>\n",
       "      <td>9.99</td>\n",
       "      <td>...</td>\n",
       "      <td>55</td>\n",
       "      <td>0.404762</td>\n",
       "      <td>0</td>\n",
       "      <td>0</td>\n",
       "      <td>0</td>\n",
       "      <td>120</td>\n",
       "      <td>43</td>\n",
       "      <td>106</td>\n",
       "      <td>105</td>\n",
       "      <td>24.45</td>\n",
       "    </tr>\n",
       "    <tr>\n",
       "      <th>2</th>\n",
       "      <td>200901284676</td>\n",
       "      <td>1</td>\n",
       "      <td>11.00</td>\n",
       "      <td>0.5969</td>\n",
       "      <td>0.5426</td>\n",
       "      <td>hondo19461946</td>\n",
       "      <td>0.422131</td>\n",
       "      <td>73396</td>\n",
       "      <td>9174</td>\n",
       "      <td>10.00</td>\n",
       "      <td>...</td>\n",
       "      <td>21</td>\n",
       "      <td>0.324324</td>\n",
       "      <td>0</td>\n",
       "      <td>1</td>\n",
       "      <td>1</td>\n",
       "      <td>583</td>\n",
       "      <td>291</td>\n",
       "      <td>244</td>\n",
       "      <td>103</td>\n",
       "      <td>12.26</td>\n",
       "    </tr>\n",
       "    <tr>\n",
       "      <th>3</th>\n",
       "      <td>271162670857</td>\n",
       "      <td>0</td>\n",
       "      <td>10.00</td>\n",
       "      <td>0.5426</td>\n",
       "      <td>0.5426</td>\n",
       "      <td>winemeyer45</td>\n",
       "      <td>0.245098</td>\n",
       "      <td>73396</td>\n",
       "      <td>9174</td>\n",
       "      <td>10.00</td>\n",
       "      <td>...</td>\n",
       "      <td>26</td>\n",
       "      <td>0.270270</td>\n",
       "      <td>0</td>\n",
       "      <td>0</td>\n",
       "      <td>1</td>\n",
       "      <td>583</td>\n",
       "      <td>291</td>\n",
       "      <td>102</td>\n",
       "      <td>25</td>\n",
       "      <td>12.26</td>\n",
       "    </tr>\n",
       "    <tr>\n",
       "      <th>4</th>\n",
       "      <td>310611578768</td>\n",
       "      <td>0</td>\n",
       "      <td>9.99</td>\n",
       "      <td>1.9159</td>\n",
       "      <td>1.9159</td>\n",
       "      <td>chucksmemorabilia</td>\n",
       "      <td>0.295359</td>\n",
       "      <td>73396</td>\n",
       "      <td>17956</td>\n",
       "      <td>9.99</td>\n",
       "      <td>...</td>\n",
       "      <td>53</td>\n",
       "      <td>0.200000</td>\n",
       "      <td>0</td>\n",
       "      <td>1</td>\n",
       "      <td>0</td>\n",
       "      <td>137</td>\n",
       "      <td>44</td>\n",
       "      <td>237</td>\n",
       "      <td>70</td>\n",
       "      <td>3.02</td>\n",
       "    </tr>\n",
       "  </tbody>\n",
       "</table>\n",
       "<p>5 rows × 28 columns</p>\n",
       "</div>"
      ],
      "text/plain": [
       "         EbayID  QuantitySold  Price  PricePercent  StartingBidPercent  \\\n",
       "0  160983189073             1  27.25        1.4787              0.0537   \n",
       "1  390549601720             1  43.00        1.4422              0.3350   \n",
       "2  200901284676             1  11.00        0.5969              0.5426   \n",
       "3  271162670857             0  10.00        0.5426              0.5426   \n",
       "4  310611578768             0   9.99        1.9159              1.9159   \n",
       "\n",
       "          SellerName  SellerClosePercent  Category  PersonID  StartingBid  \\\n",
       "0          petesandi            0.925926     73396      9174         0.99   \n",
       "1         graphn4fun            0.990566     27278     11046         9.99   \n",
       "2      hondo19461946            0.422131     73396      9174        10.00   \n",
       "3        winemeyer45            0.245098     73396      9174        10.00   \n",
       "4  chucksmemorabilia            0.295359     73396     17956         9.99   \n",
       "\n",
       "          ...          AuctionHitCountAvgRatio  BestOffer  ReturnsAccepted  \\\n",
       "0         ...                               29   1.540541                0   \n",
       "1         ...                               55   0.404762                0   \n",
       "2         ...                               21   0.324324                0   \n",
       "3         ...                               26   0.270270                0   \n",
       "4         ...                               53   0.200000                0   \n",
       "\n",
       "   IsHOF  ItemListedCount  AuctionCount  AuctionSaleCount  SellerAuctionCount  \\\n",
       "0      1                1           583               291                  54   \n",
       "1      0                0           120                43                 106   \n",
       "2      1                1           583               291                 244   \n",
       "3      0                1           583               291                 102   \n",
       "4      1                0           137                44                 237   \n",
       "\n",
       "   SellerAuctionSaleCount  AuctionMedianPrice  \n",
       "0                      50               12.26  \n",
       "1                     105               24.45  \n",
       "2                     103               12.26  \n",
       "3                      25               12.26  \n",
       "4                      70                3.02  \n",
       "\n",
       "[5 rows x 28 columns]"
      ]
     },
     "execution_count": 98,
     "metadata": {},
     "output_type": "execute_result"
    }
   ],
   "source": [
    "dayDict = {\"Monday\": 0, \"Tuesday\": 1, \"Wednesday\": 2, \"Thursday\": 3, \"Friday\": 4, \"Saturday\": 5, \"Sunday\": 6}\n",
    "df[\"EndDay\"] = df[\"EndDay\"].map(lambda d: dayDict[d])\n",
    "df.head()"
   ]
  },
  {
   "cell_type": "code",
   "execution_count": 99,
   "metadata": {
    "collapsed": false
   },
   "outputs": [
    {
     "data": {
      "text/html": [
       "<div>\n",
       "<table border=\"1\" class=\"dataframe\">\n",
       "  <thead>\n",
       "    <tr style=\"text-align: right;\">\n",
       "      <th></th>\n",
       "      <th>Price</th>\n",
       "      <th>PricePercent</th>\n",
       "      <th>StartingBidPercent</th>\n",
       "      <th>SellerClosePercent</th>\n",
       "      <th>Category</th>\n",
       "      <th>StartingBid</th>\n",
       "      <th>AvgPrice</th>\n",
       "      <th>EndDay</th>\n",
       "      <th>HitCount</th>\n",
       "      <th>AuctionAvgHitCount</th>\n",
       "      <th>AuctionHitCountAvgRatio</th>\n",
       "      <th>BestOffer</th>\n",
       "      <th>AuctionCount</th>\n",
       "      <th>AuctionSaleCount</th>\n",
       "      <th>AuctionMedianPrice</th>\n",
       "    </tr>\n",
       "  </thead>\n",
       "  <tbody>\n",
       "    <tr>\n",
       "      <th>0</th>\n",
       "      <td>27.25</td>\n",
       "      <td>1.4787</td>\n",
       "      <td>0.0537</td>\n",
       "      <td>0.925926</td>\n",
       "      <td>73396</td>\n",
       "      <td>0.99</td>\n",
       "      <td>18.4273</td>\n",
       "      <td>1</td>\n",
       "      <td>57</td>\n",
       "      <td>37</td>\n",
       "      <td>29</td>\n",
       "      <td>1.540541</td>\n",
       "      <td>583</td>\n",
       "      <td>291</td>\n",
       "      <td>12.26</td>\n",
       "    </tr>\n",
       "    <tr>\n",
       "      <th>1</th>\n",
       "      <td>43.00</td>\n",
       "      <td>1.4422</td>\n",
       "      <td>0.3350</td>\n",
       "      <td>0.990566</td>\n",
       "      <td>27278</td>\n",
       "      <td>9.99</td>\n",
       "      <td>29.8150</td>\n",
       "      <td>6</td>\n",
       "      <td>34</td>\n",
       "      <td>84</td>\n",
       "      <td>55</td>\n",
       "      <td>0.404762</td>\n",
       "      <td>120</td>\n",
       "      <td>43</td>\n",
       "      <td>24.45</td>\n",
       "    </tr>\n",
       "    <tr>\n",
       "      <th>2</th>\n",
       "      <td>11.00</td>\n",
       "      <td>0.5969</td>\n",
       "      <td>0.5426</td>\n",
       "      <td>0.422131</td>\n",
       "      <td>73396</td>\n",
       "      <td>10.00</td>\n",
       "      <td>18.4273</td>\n",
       "      <td>0</td>\n",
       "      <td>12</td>\n",
       "      <td>37</td>\n",
       "      <td>21</td>\n",
       "      <td>0.324324</td>\n",
       "      <td>583</td>\n",
       "      <td>291</td>\n",
       "      <td>12.26</td>\n",
       "    </tr>\n",
       "    <tr>\n",
       "      <th>3</th>\n",
       "      <td>10.00</td>\n",
       "      <td>0.5426</td>\n",
       "      <td>0.5426</td>\n",
       "      <td>0.245098</td>\n",
       "      <td>73396</td>\n",
       "      <td>10.00</td>\n",
       "      <td>18.4273</td>\n",
       "      <td>0</td>\n",
       "      <td>10</td>\n",
       "      <td>37</td>\n",
       "      <td>26</td>\n",
       "      <td>0.270270</td>\n",
       "      <td>583</td>\n",
       "      <td>291</td>\n",
       "      <td>12.26</td>\n",
       "    </tr>\n",
       "    <tr>\n",
       "      <th>4</th>\n",
       "      <td>9.99</td>\n",
       "      <td>1.9159</td>\n",
       "      <td>1.9159</td>\n",
       "      <td>0.295359</td>\n",
       "      <td>73396</td>\n",
       "      <td>9.99</td>\n",
       "      <td>5.2142</td>\n",
       "      <td>0</td>\n",
       "      <td>10</td>\n",
       "      <td>50</td>\n",
       "      <td>53</td>\n",
       "      <td>0.200000</td>\n",
       "      <td>137</td>\n",
       "      <td>44</td>\n",
       "      <td>3.02</td>\n",
       "    </tr>\n",
       "  </tbody>\n",
       "</table>\n",
       "</div>"
      ],
      "text/plain": [
       "   Price  PricePercent  StartingBidPercent  SellerClosePercent  Category  \\\n",
       "0  27.25        1.4787              0.0537            0.925926     73396   \n",
       "1  43.00        1.4422              0.3350            0.990566     27278   \n",
       "2  11.00        0.5969              0.5426            0.422131     73396   \n",
       "3  10.00        0.5426              0.5426            0.245098     73396   \n",
       "4   9.99        1.9159              1.9159            0.295359     73396   \n",
       "\n",
       "   StartingBid  AvgPrice  EndDay  HitCount  AuctionAvgHitCount  \\\n",
       "0         0.99   18.4273       1        57                  37   \n",
       "1         9.99   29.8150       6        34                  84   \n",
       "2        10.00   18.4273       0        12                  37   \n",
       "3        10.00   18.4273       0        10                  37   \n",
       "4         9.99    5.2142       0        10                  50   \n",
       "\n",
       "   AuctionHitCountAvgRatio  BestOffer  AuctionCount  AuctionSaleCount  \\\n",
       "0                       29   1.540541           583               291   \n",
       "1                       55   0.404762           120                43   \n",
       "2                       21   0.324324           583               291   \n",
       "3                       26   0.270270           583               291   \n",
       "4                       53   0.200000           137                44   \n",
       "\n",
       "   AuctionMedianPrice  \n",
       "0               12.26  \n",
       "1               24.45  \n",
       "2               12.26  \n",
       "3               12.26  \n",
       "4                3.02  "
      ]
     },
     "execution_count": 99,
     "metadata": {},
     "output_type": "execute_result"
    }
   ],
   "source": [
    "X = df[[\"Price\",\"PricePercent\",\"StartingBidPercent\",\"SellerClosePercent\",\"Category\",\"StartingBid\",\"AvgPrice\",\"EndDay\",\"HitCount\",\"AuctionAvgHitCount\",\"AuctionHitCountAvgRatio\",\"BestOffer\",\"AuctionCount\",\"AuctionSaleCount\",\"AuctionMedianPrice\"]]\n",
    "X.head()"
   ]
  },
  {
   "cell_type": "code",
   "execution_count": 100,
   "metadata": {
    "collapsed": false
   },
   "outputs": [
    {
     "data": {
      "text/plain": [
       "0    1\n",
       "1    1\n",
       "2    1\n",
       "3    0\n",
       "4    0\n",
       "Name: QuantitySold, dtype: int64"
      ]
     },
     "execution_count": 100,
     "metadata": {},
     "output_type": "execute_result"
    }
   ],
   "source": [
    "Y = df[\"QuantitySold\"]\n",
    "Y.head()"
   ]
  },
  {
   "cell_type": "code",
   "execution_count": 101,
   "metadata": {
    "collapsed": true
   },
   "outputs": [],
   "source": [
    "from sklearn import neighbors"
   ]
  },
  {
   "cell_type": "code",
   "execution_count": 126,
   "metadata": {
    "collapsed": true
   },
   "outputs": [],
   "source": [
    "knn = neighbors.KNeighborsClassifier(5)"
   ]
  },
  {
   "cell_type": "code",
   "execution_count": 127,
   "metadata": {
    "collapsed": false
   },
   "outputs": [
    {
     "data": {
      "text/plain": [
       "KNeighborsClassifier(algorithm='auto', leaf_size=30, metric='minkowski',\n",
       "           metric_params=None, n_jobs=1, n_neighbors=5, p=2,\n",
       "           weights='uniform')"
      ]
     },
     "execution_count": 127,
     "metadata": {},
     "output_type": "execute_result"
    }
   ],
   "source": [
    "knn.fit(X, Y)"
   ]
  },
  {
   "cell_type": "code",
   "execution_count": 104,
   "metadata": {
    "collapsed": true
   },
   "outputs": [],
   "source": [
    "test_file = \"data/TestSet.csv\""
   ]
  },
  {
   "cell_type": "code",
   "execution_count": 106,
   "metadata": {
    "collapsed": false
   },
   "outputs": [
    {
     "data": {
      "text/html": [
       "<div>\n",
       "<table border=\"1\" class=\"dataframe\">\n",
       "  <thead>\n",
       "    <tr style=\"text-align: right;\">\n",
       "      <th></th>\n",
       "      <th>EbayID</th>\n",
       "      <th>QuantitySold</th>\n",
       "      <th>Price</th>\n",
       "      <th>PricePercent</th>\n",
       "      <th>StartingBidPercent</th>\n",
       "      <th>SellerName</th>\n",
       "      <th>SellerClosePercent</th>\n",
       "      <th>Category</th>\n",
       "      <th>PersonID</th>\n",
       "      <th>StartingBid</th>\n",
       "      <th>...</th>\n",
       "      <th>AuctionHitCountAvgRatio</th>\n",
       "      <th>BestOffer</th>\n",
       "      <th>ReturnsAccepted</th>\n",
       "      <th>IsHOF</th>\n",
       "      <th>ItemListedCount</th>\n",
       "      <th>AuctionCount</th>\n",
       "      <th>AuctionSaleCount</th>\n",
       "      <th>SellerAuctionCount</th>\n",
       "      <th>SellerAuctionSaleCount</th>\n",
       "      <th>AuctionMedianPrice</th>\n",
       "    </tr>\n",
       "  </thead>\n",
       "  <tbody>\n",
       "    <tr>\n",
       "      <th>0</th>\n",
       "      <td>400476160084</td>\n",
       "      <td>0</td>\n",
       "      <td>0.99</td>\n",
       "      <td>0.5892</td>\n",
       "      <td>0.5892</td>\n",
       "      <td>harryjean0</td>\n",
       "      <td>0.128269</td>\n",
       "      <td>73409</td>\n",
       "      <td>8215</td>\n",
       "      <td>0.99</td>\n",
       "      <td>...</td>\n",
       "      <td>6</td>\n",
       "      <td>0.064103</td>\n",
       "      <td>0</td>\n",
       "      <td>1</td>\n",
       "      <td>0</td>\n",
       "      <td>79</td>\n",
       "      <td>7</td>\n",
       "      <td>2791</td>\n",
       "      <td>358</td>\n",
       "      <td>0.99</td>\n",
       "    </tr>\n",
       "    <tr>\n",
       "      <th>1</th>\n",
       "      <td>350785007664</td>\n",
       "      <td>0</td>\n",
       "      <td>119.00</td>\n",
       "      <td>1.1427</td>\n",
       "      <td>1.1427</td>\n",
       "      <td>rrsports23</td>\n",
       "      <td>0.116667</td>\n",
       "      <td>27260</td>\n",
       "      <td>34</td>\n",
       "      <td>119.00</td>\n",
       "      <td>...</td>\n",
       "      <td>25</td>\n",
       "      <td>0.077922</td>\n",
       "      <td>0</td>\n",
       "      <td>1</td>\n",
       "      <td>1</td>\n",
       "      <td>1819</td>\n",
       "      <td>834</td>\n",
       "      <td>60</td>\n",
       "      <td>7</td>\n",
       "      <td>77.00</td>\n",
       "    </tr>\n",
       "    <tr>\n",
       "      <th>2</th>\n",
       "      <td>380629932508</td>\n",
       "      <td>1</td>\n",
       "      <td>1.75</td>\n",
       "      <td>1.0416</td>\n",
       "      <td>0.4464</td>\n",
       "      <td>mojo640</td>\n",
       "      <td>0.531599</td>\n",
       "      <td>73409</td>\n",
       "      <td>8215</td>\n",
       "      <td>0.75</td>\n",
       "      <td>...</td>\n",
       "      <td>7</td>\n",
       "      <td>0.102564</td>\n",
       "      <td>0</td>\n",
       "      <td>0</td>\n",
       "      <td>0</td>\n",
       "      <td>79</td>\n",
       "      <td>7</td>\n",
       "      <td>269</td>\n",
       "      <td>143</td>\n",
       "      <td>0.99</td>\n",
       "    </tr>\n",
       "    <tr>\n",
       "      <th>3</th>\n",
       "      <td>300896813674</td>\n",
       "      <td>1</td>\n",
       "      <td>66.00</td>\n",
       "      <td>0.6338</td>\n",
       "      <td>0.0000</td>\n",
       "      <td>mintsignatures</td>\n",
       "      <td>0.971014</td>\n",
       "      <td>27260</td>\n",
       "      <td>34</td>\n",
       "      <td>0.01</td>\n",
       "      <td>...</td>\n",
       "      <td>61</td>\n",
       "      <td>1.506494</td>\n",
       "      <td>0</td>\n",
       "      <td>1</td>\n",
       "      <td>1</td>\n",
       "      <td>1819</td>\n",
       "      <td>834</td>\n",
       "      <td>138</td>\n",
       "      <td>134</td>\n",
       "      <td>77.00</td>\n",
       "    </tr>\n",
       "    <tr>\n",
       "      <th>4</th>\n",
       "      <td>200918931232</td>\n",
       "      <td>0</td>\n",
       "      <td>9.99</td>\n",
       "      <td>0.5197</td>\n",
       "      <td>0.5197</td>\n",
       "      <td>realdealsignatures</td>\n",
       "      <td>0.187117</td>\n",
       "      <td>27285</td>\n",
       "      <td>28504</td>\n",
       "      <td>9.99</td>\n",
       "      <td>...</td>\n",
       "      <td>8</td>\n",
       "      <td>0.036364</td>\n",
       "      <td>0</td>\n",
       "      <td>1</td>\n",
       "      <td>0</td>\n",
       "      <td>202</td>\n",
       "      <td>30</td>\n",
       "      <td>326</td>\n",
       "      <td>61</td>\n",
       "      <td>11.00</td>\n",
       "    </tr>\n",
       "  </tbody>\n",
       "</table>\n",
       "<p>5 rows × 28 columns</p>\n",
       "</div>"
      ],
      "text/plain": [
       "         EbayID  QuantitySold   Price  PricePercent  StartingBidPercent  \\\n",
       "0  400476160084             0    0.99        0.5892              0.5892   \n",
       "1  350785007664             0  119.00        1.1427              1.1427   \n",
       "2  380629932508             1    1.75        1.0416              0.4464   \n",
       "3  300896813674             1   66.00        0.6338              0.0000   \n",
       "4  200918931232             0    9.99        0.5197              0.5197   \n",
       "\n",
       "           SellerName  SellerClosePercent  Category  PersonID  StartingBid  \\\n",
       "0          harryjean0            0.128269     73409      8215         0.99   \n",
       "1          rrsports23            0.116667     27260        34       119.00   \n",
       "2             mojo640            0.531599     73409      8215         0.75   \n",
       "3      mintsignatures            0.971014     27260        34         0.01   \n",
       "4  realdealsignatures            0.187117     27285     28504         9.99   \n",
       "\n",
       "          ...          AuctionHitCountAvgRatio  BestOffer  ReturnsAccepted  \\\n",
       "0         ...                                6   0.064103                0   \n",
       "1         ...                               25   0.077922                0   \n",
       "2         ...                                7   0.102564                0   \n",
       "3         ...                               61   1.506494                0   \n",
       "4         ...                                8   0.036364                0   \n",
       "\n",
       "   IsHOF  ItemListedCount  AuctionCount  AuctionSaleCount  SellerAuctionCount  \\\n",
       "0      1                0            79                 7                2791   \n",
       "1      1                1          1819               834                  60   \n",
       "2      0                0            79                 7                 269   \n",
       "3      1                1          1819               834                 138   \n",
       "4      1                0           202                30                 326   \n",
       "\n",
       "   SellerAuctionSaleCount  AuctionMedianPrice  \n",
       "0                     358                0.99  \n",
       "1                       7               77.00  \n",
       "2                     143                0.99  \n",
       "3                     134               77.00  \n",
       "4                      61               11.00  \n",
       "\n",
       "[5 rows x 28 columns]"
      ]
     },
     "execution_count": 106,
     "metadata": {},
     "output_type": "execute_result"
    }
   ],
   "source": [
    "test_df = pd.read_csv(test_file, header = 0)\n",
    "test_df[\"EndDay\"] = test_df[\"EndDay\"].map(lambda d: dayDict[d])\n",
    "test_df.head()"
   ]
  },
  {
   "cell_type": "code",
   "execution_count": 107,
   "metadata": {
    "collapsed": false
   },
   "outputs": [
    {
     "data": {
      "text/html": [
       "<div>\n",
       "<table border=\"1\" class=\"dataframe\">\n",
       "  <thead>\n",
       "    <tr style=\"text-align: right;\">\n",
       "      <th></th>\n",
       "      <th>Price</th>\n",
       "      <th>PricePercent</th>\n",
       "      <th>StartingBidPercent</th>\n",
       "      <th>SellerClosePercent</th>\n",
       "      <th>Category</th>\n",
       "      <th>StartingBid</th>\n",
       "      <th>AvgPrice</th>\n",
       "      <th>EndDay</th>\n",
       "      <th>HitCount</th>\n",
       "      <th>AuctionAvgHitCount</th>\n",
       "      <th>AuctionHitCountAvgRatio</th>\n",
       "      <th>BestOffer</th>\n",
       "      <th>AuctionCount</th>\n",
       "      <th>AuctionSaleCount</th>\n",
       "      <th>AuctionMedianPrice</th>\n",
       "    </tr>\n",
       "  </thead>\n",
       "  <tbody>\n",
       "    <tr>\n",
       "      <th>0</th>\n",
       "      <td>0.99</td>\n",
       "      <td>0.5892</td>\n",
       "      <td>0.5892</td>\n",
       "      <td>0.128269</td>\n",
       "      <td>73409</td>\n",
       "      <td>0.99</td>\n",
       "      <td>1.6800</td>\n",
       "      <td>6</td>\n",
       "      <td>5</td>\n",
       "      <td>78</td>\n",
       "      <td>6</td>\n",
       "      <td>0.064103</td>\n",
       "      <td>79</td>\n",
       "      <td>7</td>\n",
       "      <td>0.99</td>\n",
       "    </tr>\n",
       "    <tr>\n",
       "      <th>1</th>\n",
       "      <td>119.00</td>\n",
       "      <td>1.1427</td>\n",
       "      <td>1.1427</td>\n",
       "      <td>0.116667</td>\n",
       "      <td>27260</td>\n",
       "      <td>119.00</td>\n",
       "      <td>104.1330</td>\n",
       "      <td>0</td>\n",
       "      <td>6</td>\n",
       "      <td>77</td>\n",
       "      <td>25</td>\n",
       "      <td>0.077922</td>\n",
       "      <td>1819</td>\n",
       "      <td>834</td>\n",
       "      <td>77.00</td>\n",
       "    </tr>\n",
       "    <tr>\n",
       "      <th>2</th>\n",
       "      <td>1.75</td>\n",
       "      <td>1.0416</td>\n",
       "      <td>0.4464</td>\n",
       "      <td>0.531599</td>\n",
       "      <td>73409</td>\n",
       "      <td>0.75</td>\n",
       "      <td>1.6800</td>\n",
       "      <td>3</td>\n",
       "      <td>8</td>\n",
       "      <td>78</td>\n",
       "      <td>7</td>\n",
       "      <td>0.102564</td>\n",
       "      <td>79</td>\n",
       "      <td>7</td>\n",
       "      <td>0.99</td>\n",
       "    </tr>\n",
       "    <tr>\n",
       "      <th>3</th>\n",
       "      <td>66.00</td>\n",
       "      <td>0.6338</td>\n",
       "      <td>0.0000</td>\n",
       "      <td>0.971014</td>\n",
       "      <td>27260</td>\n",
       "      <td>0.01</td>\n",
       "      <td>104.1330</td>\n",
       "      <td>5</td>\n",
       "      <td>116</td>\n",
       "      <td>77</td>\n",
       "      <td>61</td>\n",
       "      <td>1.506494</td>\n",
       "      <td>1819</td>\n",
       "      <td>834</td>\n",
       "      <td>77.00</td>\n",
       "    </tr>\n",
       "    <tr>\n",
       "      <th>4</th>\n",
       "      <td>9.99</td>\n",
       "      <td>0.5197</td>\n",
       "      <td>0.5197</td>\n",
       "      <td>0.187117</td>\n",
       "      <td>27285</td>\n",
       "      <td>9.99</td>\n",
       "      <td>19.2203</td>\n",
       "      <td>3</td>\n",
       "      <td>2</td>\n",
       "      <td>55</td>\n",
       "      <td>8</td>\n",
       "      <td>0.036364</td>\n",
       "      <td>202</td>\n",
       "      <td>30</td>\n",
       "      <td>11.00</td>\n",
       "    </tr>\n",
       "  </tbody>\n",
       "</table>\n",
       "</div>"
      ],
      "text/plain": [
       "    Price  PricePercent  StartingBidPercent  SellerClosePercent  Category  \\\n",
       "0    0.99        0.5892              0.5892            0.128269     73409   \n",
       "1  119.00        1.1427              1.1427            0.116667     27260   \n",
       "2    1.75        1.0416              0.4464            0.531599     73409   \n",
       "3   66.00        0.6338              0.0000            0.971014     27260   \n",
       "4    9.99        0.5197              0.5197            0.187117     27285   \n",
       "\n",
       "   StartingBid  AvgPrice  EndDay  HitCount  AuctionAvgHitCount  \\\n",
       "0         0.99    1.6800       6         5                  78   \n",
       "1       119.00  104.1330       0         6                  77   \n",
       "2         0.75    1.6800       3         8                  78   \n",
       "3         0.01  104.1330       5       116                  77   \n",
       "4         9.99   19.2203       3         2                  55   \n",
       "\n",
       "   AuctionHitCountAvgRatio  BestOffer  AuctionCount  AuctionSaleCount  \\\n",
       "0                        6   0.064103            79                 7   \n",
       "1                       25   0.077922          1819               834   \n",
       "2                        7   0.102564            79                 7   \n",
       "3                       61   1.506494          1819               834   \n",
       "4                        8   0.036364           202                30   \n",
       "\n",
       "   AuctionMedianPrice  \n",
       "0                0.99  \n",
       "1               77.00  \n",
       "2                0.99  \n",
       "3               77.00  \n",
       "4               11.00  "
      ]
     },
     "execution_count": 107,
     "metadata": {},
     "output_type": "execute_result"
    }
   ],
   "source": [
    "X_test = test_df[[\"Price\",\"PricePercent\",\"StartingBidPercent\",\"SellerClosePercent\",\"Category\",\"StartingBid\",\"AvgPrice\",\"EndDay\",\"HitCount\",\"AuctionAvgHitCount\",\"AuctionHitCountAvgRatio\",\"BestOffer\",\"AuctionCount\",\"AuctionSaleCount\",\"AuctionMedianPrice\"]]\n",
    "X_test.head()"
   ]
  },
  {
   "cell_type": "code",
   "execution_count": 108,
   "metadata": {
    "collapsed": false
   },
   "outputs": [
    {
     "data": {
      "text/plain": [
       "0    0\n",
       "1    0\n",
       "2    1\n",
       "3    1\n",
       "4    0\n",
       "Name: QuantitySold, dtype: int64"
      ]
     },
     "execution_count": 108,
     "metadata": {},
     "output_type": "execute_result"
    }
   ],
   "source": [
    "Y_test = test_df[\"QuantitySold\"]\n",
    "Y_test.head()"
   ]
  },
  {
   "cell_type": "code",
   "execution_count": 128,
   "metadata": {
    "collapsed": false
   },
   "outputs": [],
   "source": [
    "Y_predicted = knn.predict(X_test)"
   ]
  },
  {
   "cell_type": "code",
   "execution_count": 110,
   "metadata": {
    "collapsed": false,
    "scrolled": true
   },
   "outputs": [
    {
     "data": {
      "text/plain": [
       "0    28061\n",
       "1     9399\n",
       "Name: QuantitySold, dtype: int64"
      ]
     },
     "execution_count": 110,
     "metadata": {},
     "output_type": "execute_result"
    }
   ],
   "source": [
    "Y.value_counts()\n",
    "Y_test.value_counts()"
   ]
  },
  {
   "cell_type": "code",
   "execution_count": 111,
   "metadata": {
    "collapsed": false
   },
   "outputs": [
    {
     "data": {
      "text/plain": [
       "Counter({0: 30295, 1: 7165})"
      ]
     },
     "execution_count": 111,
     "metadata": {},
     "output_type": "execute_result"
    }
   ],
   "source": [
    "collections.Counter(Y_predicted)"
   ]
  },
  {
   "cell_type": "code",
   "execution_count": 112,
   "metadata": {
    "collapsed": true
   },
   "outputs": [],
   "source": [
    "from sklearn import metrics"
   ]
  },
  {
   "cell_type": "code",
   "execution_count": 129,
   "metadata": {
    "collapsed": false
   },
   "outputs": [
    {
     "name": "stdout",
     "output_type": "stream",
     "text": [
      "             precision    recall  f1-score   support\n",
      "\n",
      "          0       0.95      0.88      0.92     30295\n",
      "          1       0.62      0.81      0.70      7165\n",
      "\n",
      "avg / total       0.89      0.87      0.88     37460\n",
      "\n"
     ]
    }
   ],
   "source": [
    "print(metrics.classification_report(Y_predicted, Y_test))"
   ]
  },
  {
   "cell_type": "code",
   "execution_count": null,
   "metadata": {
    "collapsed": true
   },
   "outputs": [],
   "source": []
  }
 ],
 "metadata": {
  "kernelspec": {
   "display_name": "Python 3",
   "language": "python",
   "name": "python3"
  },
  "language_info": {
   "codemirror_mode": {
    "name": "ipython",
    "version": 3
   },
   "file_extension": ".py",
   "mimetype": "text/x-python",
   "name": "python",
   "nbconvert_exporter": "python",
   "pygments_lexer": "ipython3",
   "version": "3.5.2"
  }
 },
 "nbformat": 4,
 "nbformat_minor": 2
}
