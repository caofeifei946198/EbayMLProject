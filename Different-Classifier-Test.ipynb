{
 "cells": [
  {
   "cell_type": "code",
   "execution_count": 1,
   "metadata": {
    "collapsed": true
   },
   "outputs": [],
   "source": [
    "import sklearn\n",
    "import numpy as np\n",
    "import pandas as pd\n",
    "import collections"
   ]
  },
  {
   "cell_type": "markdown",
   "metadata": {},
   "source": [
    "### Import Train and Test data"
   ]
  },
  {
   "cell_type": "code",
   "execution_count": 2,
   "metadata": {
    "collapsed": true
   },
   "outputs": [],
   "source": [
    "train_file = \"data/TrainingSet.csv\"\n",
    "test_file = \"data/TestSet.csv\""
   ]
  },
  {
   "cell_type": "code",
   "execution_count": 3,
   "metadata": {
    "collapsed": true
   },
   "outputs": [],
   "source": [
    "train_df = pd.read_csv(train_file, header = 0)\n",
    "test_df = pd.read_csv(test_file, header = 0)"
   ]
  },
  {
   "cell_type": "code",
   "execution_count": 4,
   "metadata": {
    "collapsed": true
   },
   "outputs": [],
   "source": [
    "# hand picked features\n",
    "# features = [\"AuctionMedianPrice\", \"Price\",\"PricePercent\",\"StartingBidPercent\",\"SellerClosePercent\",\"StartingBid\",\"AvgPrice\",\"HitCount\",\"AuctionAvgHitCount\",\"ItemAuctionSellPercent\",\"SellerSaleAvgPriceRatio\",\"AuctionHitCountAvgRatio\",\"BestOffer\", \"IsHOF\",\"ItemListedCount\",\"AuctionCount\",\"AuctionSaleCount\",\"SellerAuctionCount\",\"SellerAuctionSaleCount\"]\n",
    "# features = [\"AuctionMedianPrice\", \"Price\", \"AvgPrice\", \"ItemAuctionSellPercent\", \"StartingBidPercent\", \"StartingBid\", \"AuctionHitCountAvgRatio\", \"SellerSaleAvgPriceRatio\", \"IsHOF\", \"AuctionCount\", \"SellerAuctionSaleCount\"]\n",
    "\n",
    "# almost all features\n",
    "features = [\"Price\",\"PricePercent\",\"StartingBidPercent\",\"SellerClosePercent\",\"Category\",\"StartingBid\",\"AvgPrice\",\"EndDay\",\"HitCount\",\"AuctionAvgHitCount\",\"AuctionHitCountAvgRatio\",\"BestOffer\",\"AuctionCount\",\"AuctionSaleCount\",\"AuctionMedianPrice\"]\n",
    "\n",
    "# no endday\n",
    "# features = [\"Price\",\"PricePercent\",\"StartingBidPercent\",\"SellerClosePercent\",\"Category\",\"StartingBid\",\"AvgPrice\",\"HitCount\",\"AuctionAvgHitCount\",\"AuctionHitCountAvgRatio\",\"BestOffer\",\"AuctionCount\",\"AuctionSaleCount\",\"AuctionMedianPrice\"]\n",
    "\n",
    "# took out a lot of features\n",
    "# features = [\"Price\",\"StartingBid\",\"AvgPrice\",\"EndDay\",\"HitCount\",\"AuctionAvgHitCount\",\"AuctionHitCountAvgRatio\",\"BestOffer\",\"AuctionCount\",\"AuctionSaleCount\",\"AuctionMedianPrice\"]"
   ]
  },
  {
   "cell_type": "code",
   "execution_count": 5,
   "metadata": {
    "collapsed": false
   },
   "outputs": [
    {
     "data": {
      "text/plain": [
       "9399"
      ]
     },
     "execution_count": 5,
     "metadata": {},
     "output_type": "execute_result"
    }
   ],
   "source": [
    "len(test_df)\n",
    "yes_test = test_df[test_df.QuantitySold == 1]\n",
    "len(yes_test)"
   ]
  },
  {
   "cell_type": "markdown",
   "metadata": {},
   "source": [
    "### Parse out train data"
   ]
  },
  {
   "cell_type": "code",
   "execution_count": 6,
   "metadata": {
    "collapsed": false
   },
   "outputs": [],
   "source": [
    "import math\n",
    "dayDict = {\"Monday\": 0, \"Tuesday\": 1, \"Wednesday\": 2, \"Thursday\": 3, \"Friday\": 4, \"Saturday\": 5, \"Sunday\": 6}\n",
    "# dayDict = {\"Monday\": math.sin(0), \"Tuesday\": math.sin(1), \"Wednesday\": math.sin(2), \"Thursday\": math.sin(3), \"Friday\": math.sin(4), \"Saturday\": math.sin(5), \"Sunday\": math.sin(6)}\n",
    "train_df[\"EndDay\"] = train_df[\"EndDay\"].map(lambda d: dayDict[d])"
   ]
  },
  {
   "cell_type": "code",
   "execution_count": 7,
   "metadata": {
    "collapsed": false
   },
   "outputs": [],
   "source": [
    "sold = train_df[train_df.QuantitySold == 1]\n",
    "not_sold = train_df[train_df.QuantitySold == 0]"
   ]
  },
  {
   "cell_type": "code",
   "execution_count": 8,
   "metadata": {
    "collapsed": false
   },
   "outputs": [
    {
     "data": {
      "text/plain": [
       "(79755, 178833)"
      ]
     },
     "execution_count": 8,
     "metadata": {},
     "output_type": "execute_result"
    }
   ],
   "source": [
    "len(sold), len(not_sold)"
   ]
  },
  {
   "cell_type": "code",
   "execution_count": 9,
   "metadata": {
    "collapsed": false
   },
   "outputs": [
    {
     "data": {
      "text/html": [
       "<div>\n",
       "<table border=\"1\" class=\"dataframe\">\n",
       "  <thead>\n",
       "    <tr style=\"text-align: right;\">\n",
       "      <th></th>\n",
       "      <th>EbayID</th>\n",
       "      <th>QuantitySold</th>\n",
       "      <th>Price</th>\n",
       "      <th>PricePercent</th>\n",
       "      <th>StartingBidPercent</th>\n",
       "      <th>SellerName</th>\n",
       "      <th>SellerClosePercent</th>\n",
       "      <th>Category</th>\n",
       "      <th>PersonID</th>\n",
       "      <th>StartingBid</th>\n",
       "      <th>...</th>\n",
       "      <th>AuctionHitCountAvgRatio</th>\n",
       "      <th>BestOffer</th>\n",
       "      <th>ReturnsAccepted</th>\n",
       "      <th>IsHOF</th>\n",
       "      <th>ItemListedCount</th>\n",
       "      <th>AuctionCount</th>\n",
       "      <th>AuctionSaleCount</th>\n",
       "      <th>SellerAuctionCount</th>\n",
       "      <th>SellerAuctionSaleCount</th>\n",
       "      <th>AuctionMedianPrice</th>\n",
       "    </tr>\n",
       "  </thead>\n",
       "  <tbody>\n",
       "    <tr>\n",
       "      <th>0</th>\n",
       "      <td>160983189073</td>\n",
       "      <td>1</td>\n",
       "      <td>27.25</td>\n",
       "      <td>1.4787</td>\n",
       "      <td>0.0537</td>\n",
       "      <td>petesandi</td>\n",
       "      <td>0.925926</td>\n",
       "      <td>73396</td>\n",
       "      <td>9174</td>\n",
       "      <td>0.99</td>\n",
       "      <td>...</td>\n",
       "      <td>29</td>\n",
       "      <td>1.540541</td>\n",
       "      <td>0</td>\n",
       "      <td>1</td>\n",
       "      <td>1</td>\n",
       "      <td>583</td>\n",
       "      <td>291</td>\n",
       "      <td>54</td>\n",
       "      <td>50</td>\n",
       "      <td>12.26</td>\n",
       "    </tr>\n",
       "    <tr>\n",
       "      <th>1</th>\n",
       "      <td>390549601720</td>\n",
       "      <td>1</td>\n",
       "      <td>43.00</td>\n",
       "      <td>1.4422</td>\n",
       "      <td>0.3350</td>\n",
       "      <td>graphn4fun</td>\n",
       "      <td>0.990566</td>\n",
       "      <td>27278</td>\n",
       "      <td>11046</td>\n",
       "      <td>9.99</td>\n",
       "      <td>...</td>\n",
       "      <td>55</td>\n",
       "      <td>0.404762</td>\n",
       "      <td>0</td>\n",
       "      <td>0</td>\n",
       "      <td>0</td>\n",
       "      <td>120</td>\n",
       "      <td>43</td>\n",
       "      <td>106</td>\n",
       "      <td>105</td>\n",
       "      <td>24.45</td>\n",
       "    </tr>\n",
       "    <tr>\n",
       "      <th>2</th>\n",
       "      <td>200901284676</td>\n",
       "      <td>1</td>\n",
       "      <td>11.00</td>\n",
       "      <td>0.5969</td>\n",
       "      <td>0.5426</td>\n",
       "      <td>hondo19461946</td>\n",
       "      <td>0.422131</td>\n",
       "      <td>73396</td>\n",
       "      <td>9174</td>\n",
       "      <td>10.00</td>\n",
       "      <td>...</td>\n",
       "      <td>21</td>\n",
       "      <td>0.324324</td>\n",
       "      <td>0</td>\n",
       "      <td>1</td>\n",
       "      <td>1</td>\n",
       "      <td>583</td>\n",
       "      <td>291</td>\n",
       "      <td>244</td>\n",
       "      <td>103</td>\n",
       "      <td>12.26</td>\n",
       "    </tr>\n",
       "    <tr>\n",
       "      <th>5</th>\n",
       "      <td>390551441929</td>\n",
       "      <td>1</td>\n",
       "      <td>33.01</td>\n",
       "      <td>0.8372</td>\n",
       "      <td>0.0251</td>\n",
       "      <td>firstclassautograph</td>\n",
       "      <td>0.664516</td>\n",
       "      <td>27276</td>\n",
       "      <td>22954</td>\n",
       "      <td>0.99</td>\n",
       "      <td>...</td>\n",
       "      <td>114</td>\n",
       "      <td>0.256098</td>\n",
       "      <td>0</td>\n",
       "      <td>1</td>\n",
       "      <td>0</td>\n",
       "      <td>47</td>\n",
       "      <td>23</td>\n",
       "      <td>155</td>\n",
       "      <td>103</td>\n",
       "      <td>41.00</td>\n",
       "    </tr>\n",
       "    <tr>\n",
       "      <th>9</th>\n",
       "      <td>121077510308</td>\n",
       "      <td>1</td>\n",
       "      <td>180.00</td>\n",
       "      <td>3.4830</td>\n",
       "      <td>3.4830</td>\n",
       "      <td>emmyjojo200011</td>\n",
       "      <td>0.333333</td>\n",
       "      <td>27278</td>\n",
       "      <td>20913</td>\n",
       "      <td>180.00</td>\n",
       "      <td>...</td>\n",
       "      <td>52</td>\n",
       "      <td>0.183333</td>\n",
       "      <td>0</td>\n",
       "      <td>0</td>\n",
       "      <td>1</td>\n",
       "      <td>1586</td>\n",
       "      <td>447</td>\n",
       "      <td>3</td>\n",
       "      <td>1</td>\n",
       "      <td>36.00</td>\n",
       "    </tr>\n",
       "  </tbody>\n",
       "</table>\n",
       "<p>5 rows × 28 columns</p>\n",
       "</div>"
      ],
      "text/plain": [
       "         EbayID  QuantitySold   Price  PricePercent  StartingBidPercent  \\\n",
       "0  160983189073             1   27.25        1.4787              0.0537   \n",
       "1  390549601720             1   43.00        1.4422              0.3350   \n",
       "2  200901284676             1   11.00        0.5969              0.5426   \n",
       "5  390551441929             1   33.01        0.8372              0.0251   \n",
       "9  121077510308             1  180.00        3.4830              3.4830   \n",
       "\n",
       "            SellerName  SellerClosePercent  Category  PersonID  StartingBid  \\\n",
       "0            petesandi            0.925926     73396      9174         0.99   \n",
       "1           graphn4fun            0.990566     27278     11046         9.99   \n",
       "2        hondo19461946            0.422131     73396      9174        10.00   \n",
       "5  firstclassautograph            0.664516     27276     22954         0.99   \n",
       "9       emmyjojo200011            0.333333     27278     20913       180.00   \n",
       "\n",
       "          ...          AuctionHitCountAvgRatio  BestOffer  ReturnsAccepted  \\\n",
       "0         ...                               29   1.540541                0   \n",
       "1         ...                               55   0.404762                0   \n",
       "2         ...                               21   0.324324                0   \n",
       "5         ...                              114   0.256098                0   \n",
       "9         ...                               52   0.183333                0   \n",
       "\n",
       "   IsHOF  ItemListedCount  AuctionCount  AuctionSaleCount  SellerAuctionCount  \\\n",
       "0      1                1           583               291                  54   \n",
       "1      0                0           120                43                 106   \n",
       "2      1                1           583               291                 244   \n",
       "5      1                0            47                23                 155   \n",
       "9      0                1          1586               447                   3   \n",
       "\n",
       "   SellerAuctionSaleCount  AuctionMedianPrice  \n",
       "0                      50               12.26  \n",
       "1                     105               24.45  \n",
       "2                     103               12.26  \n",
       "5                     103               41.00  \n",
       "9                       1               36.00  \n",
       "\n",
       "[5 rows x 28 columns]"
      ]
     },
     "execution_count": 9,
     "metadata": {},
     "output_type": "execute_result"
    }
   ],
   "source": [
    "even_train_df = pd.concat([sold, not_sold[:len(sold)]])\n",
    "even_train_df.head()"
   ]
  },
  {
   "cell_type": "code",
   "execution_count": 18,
   "metadata": {
    "collapsed": false
   },
   "outputs": [
    {
     "data": {
      "text/html": [
       "<div>\n",
       "<table border=\"1\" class=\"dataframe\">\n",
       "  <thead>\n",
       "    <tr style=\"text-align: right;\">\n",
       "      <th></th>\n",
       "      <th>EbayID</th>\n",
       "      <th>QuantitySold</th>\n",
       "      <th>Price</th>\n",
       "      <th>PricePercent</th>\n",
       "      <th>StartingBidPercent</th>\n",
       "      <th>SellerName</th>\n",
       "      <th>SellerClosePercent</th>\n",
       "      <th>Category</th>\n",
       "      <th>PersonID</th>\n",
       "      <th>StartingBid</th>\n",
       "      <th>...</th>\n",
       "      <th>AuctionHitCountAvgRatio</th>\n",
       "      <th>BestOffer</th>\n",
       "      <th>ReturnsAccepted</th>\n",
       "      <th>IsHOF</th>\n",
       "      <th>ItemListedCount</th>\n",
       "      <th>AuctionCount</th>\n",
       "      <th>AuctionSaleCount</th>\n",
       "      <th>SellerAuctionCount</th>\n",
       "      <th>SellerAuctionSaleCount</th>\n",
       "      <th>AuctionMedianPrice</th>\n",
       "    </tr>\n",
       "  </thead>\n",
       "  <tbody>\n",
       "    <tr>\n",
       "      <th>77417</th>\n",
       "      <td>400450424738</td>\n",
       "      <td>1</td>\n",
       "      <td>14.99</td>\n",
       "      <td>2.6500</td>\n",
       "      <td>2.6500</td>\n",
       "      <td>bcsportscards</td>\n",
       "      <td>0.363833</td>\n",
       "      <td>73396</td>\n",
       "      <td>591</td>\n",
       "      <td>14.99</td>\n",
       "      <td>...</td>\n",
       "      <td>15</td>\n",
       "      <td>0.231884</td>\n",
       "      <td>0</td>\n",
       "      <td>1</td>\n",
       "      <td>0</td>\n",
       "      <td>6</td>\n",
       "      <td>3</td>\n",
       "      <td>2306</td>\n",
       "      <td>839</td>\n",
       "      <td>0.990</td>\n",
       "    </tr>\n",
       "    <tr>\n",
       "      <th>195216</th>\n",
       "      <td>121102095617</td>\n",
       "      <td>1</td>\n",
       "      <td>3.25</td>\n",
       "      <td>0.0645</td>\n",
       "      <td>0.0196</td>\n",
       "      <td>skyisthelimit3456</td>\n",
       "      <td>0.923077</td>\n",
       "      <td>27260</td>\n",
       "      <td>4407</td>\n",
       "      <td>0.99</td>\n",
       "      <td>...</td>\n",
       "      <td>48</td>\n",
       "      <td>0.163934</td>\n",
       "      <td>0</td>\n",
       "      <td>1</td>\n",
       "      <td>0</td>\n",
       "      <td>212</td>\n",
       "      <td>85</td>\n",
       "      <td>26</td>\n",
       "      <td>24</td>\n",
       "      <td>25.000</td>\n",
       "    </tr>\n",
       "    <tr>\n",
       "      <th>946</th>\n",
       "      <td>400447978454</td>\n",
       "      <td>0</td>\n",
       "      <td>0.99</td>\n",
       "      <td>0.8728</td>\n",
       "      <td>0.8728</td>\n",
       "      <td>the_sports_page</td>\n",
       "      <td>0.553381</td>\n",
       "      <td>73396</td>\n",
       "      <td>14129</td>\n",
       "      <td>0.99</td>\n",
       "      <td>...</td>\n",
       "      <td>4</td>\n",
       "      <td>0.069767</td>\n",
       "      <td>0</td>\n",
       "      <td>1</td>\n",
       "      <td>0</td>\n",
       "      <td>36</td>\n",
       "      <td>7</td>\n",
       "      <td>5264</td>\n",
       "      <td>2913</td>\n",
       "      <td>0.990</td>\n",
       "    </tr>\n",
       "    <tr>\n",
       "      <th>14885</th>\n",
       "      <td>261200847844</td>\n",
       "      <td>0</td>\n",
       "      <td>34.99</td>\n",
       "      <td>0.9322</td>\n",
       "      <td>0.9322</td>\n",
       "      <td>ksgmt</td>\n",
       "      <td>0.112825</td>\n",
       "      <td>27265</td>\n",
       "      <td>35460</td>\n",
       "      <td>34.99</td>\n",
       "      <td>...</td>\n",
       "      <td>43</td>\n",
       "      <td>0.263158</td>\n",
       "      <td>0</td>\n",
       "      <td>1</td>\n",
       "      <td>0</td>\n",
       "      <td>44</td>\n",
       "      <td>6</td>\n",
       "      <td>1037</td>\n",
       "      <td>117</td>\n",
       "      <td>22.995</td>\n",
       "    </tr>\n",
       "    <tr>\n",
       "      <th>109893</th>\n",
       "      <td>330882577069</td>\n",
       "      <td>0</td>\n",
       "      <td>120.00</td>\n",
       "      <td>2.5049</td>\n",
       "      <td>2.5049</td>\n",
       "      <td>yomongoni</td>\n",
       "      <td>0.063830</td>\n",
       "      <td>27278</td>\n",
       "      <td>26464</td>\n",
       "      <td>120.00</td>\n",
       "      <td>...</td>\n",
       "      <td>25</td>\n",
       "      <td>0.008696</td>\n",
       "      <td>0</td>\n",
       "      <td>1</td>\n",
       "      <td>1</td>\n",
       "      <td>618</td>\n",
       "      <td>198</td>\n",
       "      <td>94</td>\n",
       "      <td>6</td>\n",
       "      <td>33.775</td>\n",
       "    </tr>\n",
       "  </tbody>\n",
       "</table>\n",
       "<p>5 rows × 28 columns</p>\n",
       "</div>"
      ],
      "text/plain": [
       "              EbayID  QuantitySold   Price  PricePercent  StartingBidPercent  \\\n",
       "77417   400450424738             1   14.99        2.6500              2.6500   \n",
       "195216  121102095617             1    3.25        0.0645              0.0196   \n",
       "946     400447978454             0    0.99        0.8728              0.8728   \n",
       "14885   261200847844             0   34.99        0.9322              0.9322   \n",
       "109893  330882577069             0  120.00        2.5049              2.5049   \n",
       "\n",
       "               SellerName  SellerClosePercent  Category  PersonID  \\\n",
       "77417       bcsportscards            0.363833     73396       591   \n",
       "195216  skyisthelimit3456            0.923077     27260      4407   \n",
       "946       the_sports_page            0.553381     73396     14129   \n",
       "14885               ksgmt            0.112825     27265     35460   \n",
       "109893          yomongoni            0.063830     27278     26464   \n",
       "\n",
       "        StartingBid         ...          AuctionHitCountAvgRatio  BestOffer  \\\n",
       "77417         14.99         ...                               15   0.231884   \n",
       "195216         0.99         ...                               48   0.163934   \n",
       "946            0.99         ...                                4   0.069767   \n",
       "14885         34.99         ...                               43   0.263158   \n",
       "109893       120.00         ...                               25   0.008696   \n",
       "\n",
       "        ReturnsAccepted  IsHOF  ItemListedCount  AuctionCount  \\\n",
       "77417                 0      1                0             6   \n",
       "195216                0      1                0           212   \n",
       "946                   0      1                0            36   \n",
       "14885                 0      1                0            44   \n",
       "109893                0      1                1           618   \n",
       "\n",
       "        AuctionSaleCount  SellerAuctionCount  SellerAuctionSaleCount  \\\n",
       "77417                  3                2306                     839   \n",
       "195216                85                  26                      24   \n",
       "946                    7                5264                    2913   \n",
       "14885                  6                1037                     117   \n",
       "109893               198                  94                       6   \n",
       "\n",
       "        AuctionMedianPrice  \n",
       "77417                0.990  \n",
       "195216              25.000  \n",
       "946                  0.990  \n",
       "14885               22.995  \n",
       "109893              33.775  \n",
       "\n",
       "[5 rows x 28 columns]"
      ]
     },
     "execution_count": 18,
     "metadata": {},
     "output_type": "execute_result"
    }
   ],
   "source": [
    "even_train_df = even_train_df.sample(frac=1)\n",
    "even_train_df.head()"
   ]
  },
  {
   "cell_type": "code",
   "execution_count": 19,
   "metadata": {
    "collapsed": false
   },
   "outputs": [],
   "source": [
    "X = even_train_df[features]\n",
    "y = even_train_df[\"QuantitySold\"]"
   ]
  },
  {
   "cell_type": "markdown",
   "metadata": {},
   "source": [
    "### Build model"
   ]
  },
  {
   "cell_type": "markdown",
   "metadata": {},
   "source": [
    "#### SVM"
   ]
  },
  {
   "cell_type": "code",
   "execution_count": 55,
   "metadata": {
    "collapsed": true
   },
   "outputs": [],
   "source": [
    "# from sklearn import svm"
   ]
  },
  {
   "cell_type": "code",
   "execution_count": null,
   "metadata": {
    "collapsed": false
   },
   "outputs": [],
   "source": [
    "# clf = svm.SVC(kernel=\"linear\", C=0.025)"
   ]
  },
  {
   "cell_type": "code",
   "execution_count": null,
   "metadata": {
    "collapsed": true
   },
   "outputs": [],
   "source": [
    "# clf.fit(X, y)"
   ]
  },
  {
   "cell_type": "markdown",
   "metadata": {},
   "source": [
    "#### Random Forest"
   ]
  },
  {
   "cell_type": "code",
   "execution_count": null,
   "metadata": {
    "collapsed": true
   },
   "outputs": [],
   "source": [
    "from sklearn import ensemble"
   ]
  },
  {
   "cell_type": "code",
   "execution_count": null,
   "metadata": {
    "collapsed": false
   },
   "outputs": [],
   "source": [
    "rf = ensemble.RandomForestClassifier(n_estimators=10)"
   ]
  },
  {
   "cell_type": "code",
   "execution_count": null,
   "metadata": {
    "collapsed": false
   },
   "outputs": [],
   "source": [
    "rf.fit(X, y)"
   ]
  },
  {
   "cell_type": "markdown",
   "metadata": {},
   "source": [
    "#### KNN"
   ]
  },
  {
   "cell_type": "code",
   "execution_count": null,
   "metadata": {
    "collapsed": true
   },
   "outputs": [],
   "source": [
    "from sklearn import neighbors"
   ]
  },
  {
   "cell_type": "code",
   "execution_count": null,
   "metadata": {
    "collapsed": true
   },
   "outputs": [],
   "source": [
    "knn = neighbors.KNeighborsClassifier(5)"
   ]
  },
  {
   "cell_type": "code",
   "execution_count": null,
   "metadata": {
    "collapsed": false
   },
   "outputs": [],
   "source": [
    "knn.fit(X, y)"
   ]
  },
  {
   "cell_type": "markdown",
   "metadata": {},
   "source": [
    "#### Decision Trees"
   ]
  },
  {
   "cell_type": "code",
   "execution_count": null,
   "metadata": {
    "collapsed": true
   },
   "outputs": [],
   "source": [
    "from sklearn import tree"
   ]
  },
  {
   "cell_type": "code",
   "execution_count": null,
   "metadata": {
    "collapsed": true
   },
   "outputs": [],
   "source": [
    "dt = tree.DecisionTreeClassifier()"
   ]
  },
  {
   "cell_type": "code",
   "execution_count": null,
   "metadata": {
    "collapsed": false
   },
   "outputs": [],
   "source": [
    "dt.fit(X, y)"
   ]
  },
  {
   "cell_type": "markdown",
   "metadata": {},
   "source": [
    "#### Gaussian Naive Bayes"
   ]
  },
  {
   "cell_type": "code",
   "execution_count": null,
   "metadata": {
    "collapsed": true
   },
   "outputs": [],
   "source": [
    "from sklearn import naive_bayes"
   ]
  },
  {
   "cell_type": "code",
   "execution_count": null,
   "metadata": {
    "collapsed": false
   },
   "outputs": [],
   "source": [
    "gnb = naive_bayes.GaussianNB()"
   ]
  },
  {
   "cell_type": "code",
   "execution_count": null,
   "metadata": {
    "collapsed": false
   },
   "outputs": [],
   "source": [
    "gnb.fit(X, y)"
   ]
  },
  {
   "cell_type": "markdown",
   "metadata": {},
   "source": [
    "#### ADA Boost"
   ]
  },
  {
   "cell_type": "code",
   "execution_count": null,
   "metadata": {
    "collapsed": true
   },
   "outputs": [],
   "source": [
    "ada = ensemble.AdaBoostClassifier()"
   ]
  },
  {
   "cell_type": "code",
   "execution_count": null,
   "metadata": {
    "collapsed": false
   },
   "outputs": [],
   "source": [
    "ada.fit(X, y)"
   ]
  },
  {
   "cell_type": "markdown",
   "metadata": {},
   "source": [
    "#### MLP"
   ]
  },
  {
   "cell_type": "code",
   "execution_count": 20,
   "metadata": {
    "collapsed": true
   },
   "outputs": [],
   "source": [
    "from sklearn.preprocessing import StandardScaler  \n",
    "scaler = StandardScaler()  \n",
    "scaler.fit(X)  \n",
    "X_scaler = scaler.transform(X)  "
   ]
  },
  {
   "cell_type": "code",
   "execution_count": 21,
   "metadata": {
    "collapsed": false
   },
   "outputs": [],
   "source": [
    "from sklearn import neural_network"
   ]
  },
  {
   "cell_type": "code",
   "execution_count": 22,
   "metadata": {
    "collapsed": true
   },
   "outputs": [],
   "source": [
    "mlp = neural_network.MLPClassifier(solver='lbfgs')"
   ]
  },
  {
   "cell_type": "code",
   "execution_count": 23,
   "metadata": {
    "collapsed": false
   },
   "outputs": [
    {
     "data": {
      "text/plain": [
       "MLPClassifier(activation='relu', alpha=0.0001, batch_size='auto', beta_1=0.9,\n",
       "       beta_2=0.999, early_stopping=False, epsilon=1e-08,\n",
       "       hidden_layer_sizes=(100,), learning_rate='constant',\n",
       "       learning_rate_init=0.001, max_iter=200, momentum=0.9,\n",
       "       nesterovs_momentum=True, power_t=0.5, random_state=None,\n",
       "       shuffle=True, solver='lbfgs', tol=0.0001, validation_fraction=0.1,\n",
       "       verbose=False, warm_start=False)"
      ]
     },
     "execution_count": 23,
     "metadata": {},
     "output_type": "execute_result"
    }
   ],
   "source": [
    "mlp.fit(X_scaler, y)"
   ]
  },
  {
   "cell_type": "markdown",
   "metadata": {},
   "source": [
    "### Parse Test Data"
   ]
  },
  {
   "cell_type": "code",
   "execution_count": 25,
   "metadata": {
    "collapsed": true
   },
   "outputs": [],
   "source": [
    "test_df[\"EndDay\"] = test_df[\"EndDay\"].map(lambda d: dayDict[d])"
   ]
  },
  {
   "cell_type": "code",
   "execution_count": 26,
   "metadata": {
    "collapsed": true
   },
   "outputs": [],
   "source": [
    "X_test = test_df[features]\n",
    "y_test = test_df[\"QuantitySold\"]"
   ]
  },
  {
   "cell_type": "code",
   "execution_count": 27,
   "metadata": {
    "collapsed": true
   },
   "outputs": [],
   "source": [
    "from sklearn import metrics"
   ]
  },
  {
   "cell_type": "markdown",
   "metadata": {},
   "source": [
    "#### SVM Results"
   ]
  },
  {
   "cell_type": "markdown",
   "metadata": {},
   "source": [
    "#### Random Forest"
   ]
  },
  {
   "cell_type": "code",
   "execution_count": null,
   "metadata": {
    "collapsed": true
   },
   "outputs": [],
   "source": [
    "rf_predicted = rf.predict(X_test)"
   ]
  },
  {
   "cell_type": "code",
   "execution_count": null,
   "metadata": {
    "collapsed": false
   },
   "outputs": [],
   "source": [
    "print(metrics.classification_report(rf_predicted, y_test))"
   ]
  },
  {
   "cell_type": "markdown",
   "metadata": {},
   "source": [
    "#### KNN"
   ]
  },
  {
   "cell_type": "code",
   "execution_count": null,
   "metadata": {
    "collapsed": true
   },
   "outputs": [],
   "source": [
    "knn_predicted = knn.predict(X_test)"
   ]
  },
  {
   "cell_type": "code",
   "execution_count": null,
   "metadata": {
    "collapsed": false
   },
   "outputs": [],
   "source": [
    "print(metrics.classification_report(knn_predicted, y_test))"
   ]
  },
  {
   "cell_type": "markdown",
   "metadata": {},
   "source": [
    "#### Decision Tree"
   ]
  },
  {
   "cell_type": "code",
   "execution_count": null,
   "metadata": {
    "collapsed": false
   },
   "outputs": [],
   "source": [
    "dt_predicted = dt.predict(X_test)"
   ]
  },
  {
   "cell_type": "code",
   "execution_count": null,
   "metadata": {
    "collapsed": false
   },
   "outputs": [],
   "source": [
    "print(metrics.classification_report(dt_predicted, y_test))"
   ]
  },
  {
   "cell_type": "markdown",
   "metadata": {},
   "source": [
    "#### Gaussian Naive Bayes"
   ]
  },
  {
   "cell_type": "code",
   "execution_count": null,
   "metadata": {
    "collapsed": false
   },
   "outputs": [],
   "source": [
    "gnb_predicted = gnb.predict(X_test)"
   ]
  },
  {
   "cell_type": "code",
   "execution_count": null,
   "metadata": {
    "collapsed": false
   },
   "outputs": [],
   "source": [
    "print(metrics.classification_report(gnb_predicted, y_test))"
   ]
  },
  {
   "cell_type": "markdown",
   "metadata": {},
   "source": [
    "#### ADA Boost"
   ]
  },
  {
   "cell_type": "code",
   "execution_count": null,
   "metadata": {
    "collapsed": true
   },
   "outputs": [],
   "source": [
    "ada_predicted = ada.predict(X_test)"
   ]
  },
  {
   "cell_type": "code",
   "execution_count": null,
   "metadata": {
    "collapsed": false
   },
   "outputs": [],
   "source": [
    "print(metrics.classification_report(ada_predicted, y_test))"
   ]
  },
  {
   "cell_type": "markdown",
   "metadata": {},
   "source": [
    "#### MLP"
   ]
  },
  {
   "cell_type": "code",
   "execution_count": 28,
   "metadata": {
    "collapsed": false
   },
   "outputs": [],
   "source": [
    "X_test_scaler = scaler.transform(X_test)"
   ]
  },
  {
   "cell_type": "code",
   "execution_count": 29,
   "metadata": {
    "collapsed": true
   },
   "outputs": [],
   "source": [
    "mlp_predicted = mlp.predict(X_test_scaler)"
   ]
  },
  {
   "cell_type": "code",
   "execution_count": 30,
   "metadata": {
    "collapsed": false
   },
   "outputs": [
    {
     "name": "stdout",
     "output_type": "stream",
     "text": [
      "             precision    recall  f1-score   support\n",
      "\n",
      "          0       0.93      0.94      0.93     27728\n",
      "          1       0.82      0.79      0.80      9732\n",
      "\n",
      "avg / total       0.90      0.90      0.90     37460\n",
      "\n"
     ]
    }
   ],
   "source": [
    "print(metrics.classification_report(mlp_predicted, y_test))"
   ]
  },
  {
   "cell_type": "code",
   "execution_count": null,
   "metadata": {
    "collapsed": true
   },
   "outputs": [],
   "source": []
  }
 ],
 "metadata": {
  "kernelspec": {
   "display_name": "Python 3",
   "language": "python",
   "name": "python3"
  },
  "language_info": {
   "codemirror_mode": {
    "name": "ipython",
    "version": 3
   },
   "file_extension": ".py",
   "mimetype": "text/x-python",
   "name": "python",
   "nbconvert_exporter": "python",
   "pygments_lexer": "ipython3",
   "version": "3.5.2"
  }
 },
 "nbformat": 4,
 "nbformat_minor": 2
}
