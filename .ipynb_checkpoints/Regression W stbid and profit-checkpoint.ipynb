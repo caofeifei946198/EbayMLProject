{
 "cells": [
  {
   "cell_type": "code",
   "execution_count": 1,
   "metadata": {
    "collapsed": true
   },
   "outputs": [],
   "source": [
    "input_file = \"data/TrainingSet.csv\"\n",
    "test_file = \"data/TestSet.csv\""
   ]
  },
  {
   "cell_type": "code",
   "execution_count": 27,
   "metadata": {
    "collapsed": true
   },
   "outputs": [],
   "source": [
    "import sklearn\n",
    "import numpy as np\n",
    "import pandas as pd\n",
    "import collections\n",
    "import math\n",
    "from sklearn import neighbors\n",
    "from sklearn.ensemble import GradientBoostingClassifier\n",
    "from sklearn import preprocessing\n",
    "from sklearn import utils"
   ]
  },
  {
   "cell_type": "code",
   "execution_count": 17,
   "metadata": {
    "collapsed": false
   },
   "outputs": [
    {
     "data": {
      "text/html": [
       "<div>\n",
       "<table border=\"1\" class=\"dataframe\">\n",
       "  <thead>\n",
       "    <tr style=\"text-align: right;\">\n",
       "      <th></th>\n",
       "      <th>EbayID</th>\n",
       "      <th>QuantitySold</th>\n",
       "      <th>Price</th>\n",
       "      <th>PricePercent</th>\n",
       "      <th>StartingBidPercent</th>\n",
       "      <th>SellerName</th>\n",
       "      <th>SellerClosePercent</th>\n",
       "      <th>Category</th>\n",
       "      <th>PersonID</th>\n",
       "      <th>StartingBid</th>\n",
       "      <th>...</th>\n",
       "      <th>AuctionHitCountAvgRatio</th>\n",
       "      <th>BestOffer</th>\n",
       "      <th>ReturnsAccepted</th>\n",
       "      <th>IsHOF</th>\n",
       "      <th>ItemListedCount</th>\n",
       "      <th>AuctionCount</th>\n",
       "      <th>AuctionSaleCount</th>\n",
       "      <th>SellerAuctionCount</th>\n",
       "      <th>SellerAuctionSaleCount</th>\n",
       "      <th>AuctionMedianPrice</th>\n",
       "    </tr>\n",
       "  </thead>\n",
       "  <tbody>\n",
       "    <tr>\n",
       "      <th>0</th>\n",
       "      <td>400476160084</td>\n",
       "      <td>0</td>\n",
       "      <td>0.99</td>\n",
       "      <td>0.5892</td>\n",
       "      <td>0.5892</td>\n",
       "      <td>harryjean0</td>\n",
       "      <td>0.128269</td>\n",
       "      <td>73409</td>\n",
       "      <td>8215</td>\n",
       "      <td>0.99</td>\n",
       "      <td>...</td>\n",
       "      <td>6</td>\n",
       "      <td>0.064103</td>\n",
       "      <td>0</td>\n",
       "      <td>1</td>\n",
       "      <td>0</td>\n",
       "      <td>79</td>\n",
       "      <td>7</td>\n",
       "      <td>2791</td>\n",
       "      <td>358</td>\n",
       "      <td>0.99</td>\n",
       "    </tr>\n",
       "    <tr>\n",
       "      <th>1</th>\n",
       "      <td>350785007664</td>\n",
       "      <td>0</td>\n",
       "      <td>119.00</td>\n",
       "      <td>1.1427</td>\n",
       "      <td>1.1427</td>\n",
       "      <td>rrsports23</td>\n",
       "      <td>0.116667</td>\n",
       "      <td>27260</td>\n",
       "      <td>34</td>\n",
       "      <td>119.00</td>\n",
       "      <td>...</td>\n",
       "      <td>25</td>\n",
       "      <td>0.077922</td>\n",
       "      <td>0</td>\n",
       "      <td>1</td>\n",
       "      <td>1</td>\n",
       "      <td>1819</td>\n",
       "      <td>834</td>\n",
       "      <td>60</td>\n",
       "      <td>7</td>\n",
       "      <td>77.00</td>\n",
       "    </tr>\n",
       "    <tr>\n",
       "      <th>2</th>\n",
       "      <td>380629932508</td>\n",
       "      <td>1</td>\n",
       "      <td>1.75</td>\n",
       "      <td>1.0416</td>\n",
       "      <td>0.4464</td>\n",
       "      <td>mojo640</td>\n",
       "      <td>0.531599</td>\n",
       "      <td>73409</td>\n",
       "      <td>8215</td>\n",
       "      <td>0.75</td>\n",
       "      <td>...</td>\n",
       "      <td>7</td>\n",
       "      <td>0.102564</td>\n",
       "      <td>0</td>\n",
       "      <td>0</td>\n",
       "      <td>0</td>\n",
       "      <td>79</td>\n",
       "      <td>7</td>\n",
       "      <td>269</td>\n",
       "      <td>143</td>\n",
       "      <td>0.99</td>\n",
       "    </tr>\n",
       "    <tr>\n",
       "      <th>3</th>\n",
       "      <td>300896813674</td>\n",
       "      <td>1</td>\n",
       "      <td>66.00</td>\n",
       "      <td>0.6338</td>\n",
       "      <td>0.0000</td>\n",
       "      <td>mintsignatures</td>\n",
       "      <td>0.971014</td>\n",
       "      <td>27260</td>\n",
       "      <td>34</td>\n",
       "      <td>0.01</td>\n",
       "      <td>...</td>\n",
       "      <td>61</td>\n",
       "      <td>1.506494</td>\n",
       "      <td>0</td>\n",
       "      <td>1</td>\n",
       "      <td>1</td>\n",
       "      <td>1819</td>\n",
       "      <td>834</td>\n",
       "      <td>138</td>\n",
       "      <td>134</td>\n",
       "      <td>77.00</td>\n",
       "    </tr>\n",
       "    <tr>\n",
       "      <th>4</th>\n",
       "      <td>200918931232</td>\n",
       "      <td>0</td>\n",
       "      <td>9.99</td>\n",
       "      <td>0.5197</td>\n",
       "      <td>0.5197</td>\n",
       "      <td>realdealsignatures</td>\n",
       "      <td>0.187117</td>\n",
       "      <td>27285</td>\n",
       "      <td>28504</td>\n",
       "      <td>9.99</td>\n",
       "      <td>...</td>\n",
       "      <td>8</td>\n",
       "      <td>0.036364</td>\n",
       "      <td>0</td>\n",
       "      <td>1</td>\n",
       "      <td>0</td>\n",
       "      <td>202</td>\n",
       "      <td>30</td>\n",
       "      <td>326</td>\n",
       "      <td>61</td>\n",
       "      <td>11.00</td>\n",
       "    </tr>\n",
       "  </tbody>\n",
       "</table>\n",
       "<p>5 rows × 28 columns</p>\n",
       "</div>"
      ],
      "text/plain": [
       "         EbayID  QuantitySold   Price  PricePercent  StartingBidPercent  \\\n",
       "0  400476160084             0    0.99        0.5892              0.5892   \n",
       "1  350785007664             0  119.00        1.1427              1.1427   \n",
       "2  380629932508             1    1.75        1.0416              0.4464   \n",
       "3  300896813674             1   66.00        0.6338              0.0000   \n",
       "4  200918931232             0    9.99        0.5197              0.5197   \n",
       "\n",
       "           SellerName  SellerClosePercent  Category  PersonID  StartingBid  \\\n",
       "0          harryjean0            0.128269     73409      8215         0.99   \n",
       "1          rrsports23            0.116667     27260        34       119.00   \n",
       "2             mojo640            0.531599     73409      8215         0.75   \n",
       "3      mintsignatures            0.971014     27260        34         0.01   \n",
       "4  realdealsignatures            0.187117     27285     28504         9.99   \n",
       "\n",
       "          ...          AuctionHitCountAvgRatio  BestOffer  ReturnsAccepted  \\\n",
       "0         ...                                6   0.064103                0   \n",
       "1         ...                               25   0.077922                0   \n",
       "2         ...                                7   0.102564                0   \n",
       "3         ...                               61   1.506494                0   \n",
       "4         ...                                8   0.036364                0   \n",
       "\n",
       "   IsHOF  ItemListedCount  AuctionCount  AuctionSaleCount  SellerAuctionCount  \\\n",
       "0      1                0            79                 7                2791   \n",
       "1      1                1          1819               834                  60   \n",
       "2      0                0            79                 7                 269   \n",
       "3      1                1          1819               834                 138   \n",
       "4      1                0           202                30                 326   \n",
       "\n",
       "   SellerAuctionSaleCount  AuctionMedianPrice  \n",
       "0                     358                0.99  \n",
       "1                       7               77.00  \n",
       "2                     143                0.99  \n",
       "3                     134               77.00  \n",
       "4                      61               11.00  \n",
       "\n",
       "[5 rows x 28 columns]"
      ]
     },
     "execution_count": 17,
     "metadata": {},
     "output_type": "execute_result"
    }
   ],
   "source": [
    "df = pd.read_csv(input_file, header = 0)\n",
    "\n",
    "test_df = pd.read_csv(test_file, header = 0)\n",
    "test_df[\"EndDay\"] = test_df[\"EndDay\"].map(lambda d: dayDict[d])\n",
    "test_df.head()"
   ]
  },
  {
   "cell_type": "code",
   "execution_count": 8,
   "metadata": {
    "collapsed": true
   },
   "outputs": [],
   "source": [
    "stprice_features = [\"SellerClosePercent\",\"Category\",\"AvgPrice\",\"EndDay\",\"HitCount\",\"AuctionAvgHitCount\",\"SellerSaleAvgPriceRatio\",\"SellerAvg\",\"SellerItemAvg\",\"AuctionHitCountAvgRatio\",\"IsHOF\",\"AuctionCount\",\"AuctionSaleCount\",\"SellerAuctionCount\",\"SellerAuctionSaleCount\",\"AuctionMedianPrice\"]"
   ]
  },
  {
   "cell_type": "code",
   "execution_count": 5,
   "metadata": {
    "collapsed": false
   },
   "outputs": [
    {
     "data": {
      "text/html": [
       "<div>\n",
       "<table border=\"1\" class=\"dataframe\">\n",
       "  <thead>\n",
       "    <tr style=\"text-align: right;\">\n",
       "      <th></th>\n",
       "      <th>EbayID</th>\n",
       "      <th>QuantitySold</th>\n",
       "      <th>Price</th>\n",
       "      <th>PricePercent</th>\n",
       "      <th>StartingBidPercent</th>\n",
       "      <th>SellerName</th>\n",
       "      <th>SellerClosePercent</th>\n",
       "      <th>Category</th>\n",
       "      <th>PersonID</th>\n",
       "      <th>StartingBid</th>\n",
       "      <th>...</th>\n",
       "      <th>AuctionHitCountAvgRatio</th>\n",
       "      <th>BestOffer</th>\n",
       "      <th>ReturnsAccepted</th>\n",
       "      <th>IsHOF</th>\n",
       "      <th>ItemListedCount</th>\n",
       "      <th>AuctionCount</th>\n",
       "      <th>AuctionSaleCount</th>\n",
       "      <th>SellerAuctionCount</th>\n",
       "      <th>SellerAuctionSaleCount</th>\n",
       "      <th>AuctionMedianPrice</th>\n",
       "    </tr>\n",
       "  </thead>\n",
       "  <tbody>\n",
       "    <tr>\n",
       "      <th>0</th>\n",
       "      <td>160983189073</td>\n",
       "      <td>1</td>\n",
       "      <td>27.25</td>\n",
       "      <td>1.4787</td>\n",
       "      <td>0.0537</td>\n",
       "      <td>petesandi</td>\n",
       "      <td>0.925926</td>\n",
       "      <td>73396</td>\n",
       "      <td>9174</td>\n",
       "      <td>0.99</td>\n",
       "      <td>...</td>\n",
       "      <td>29</td>\n",
       "      <td>1.540541</td>\n",
       "      <td>0</td>\n",
       "      <td>1</td>\n",
       "      <td>1</td>\n",
       "      <td>583</td>\n",
       "      <td>291</td>\n",
       "      <td>54</td>\n",
       "      <td>50</td>\n",
       "      <td>12.26</td>\n",
       "    </tr>\n",
       "    <tr>\n",
       "      <th>1</th>\n",
       "      <td>390549601720</td>\n",
       "      <td>1</td>\n",
       "      <td>43.00</td>\n",
       "      <td>1.4422</td>\n",
       "      <td>0.3350</td>\n",
       "      <td>graphn4fun</td>\n",
       "      <td>0.990566</td>\n",
       "      <td>27278</td>\n",
       "      <td>11046</td>\n",
       "      <td>9.99</td>\n",
       "      <td>...</td>\n",
       "      <td>55</td>\n",
       "      <td>0.404762</td>\n",
       "      <td>0</td>\n",
       "      <td>0</td>\n",
       "      <td>0</td>\n",
       "      <td>120</td>\n",
       "      <td>43</td>\n",
       "      <td>106</td>\n",
       "      <td>105</td>\n",
       "      <td>24.45</td>\n",
       "    </tr>\n",
       "    <tr>\n",
       "      <th>2</th>\n",
       "      <td>200901284676</td>\n",
       "      <td>1</td>\n",
       "      <td>11.00</td>\n",
       "      <td>0.5969</td>\n",
       "      <td>0.5426</td>\n",
       "      <td>hondo19461946</td>\n",
       "      <td>0.422131</td>\n",
       "      <td>73396</td>\n",
       "      <td>9174</td>\n",
       "      <td>10.00</td>\n",
       "      <td>...</td>\n",
       "      <td>21</td>\n",
       "      <td>0.324324</td>\n",
       "      <td>0</td>\n",
       "      <td>1</td>\n",
       "      <td>1</td>\n",
       "      <td>583</td>\n",
       "      <td>291</td>\n",
       "      <td>244</td>\n",
       "      <td>103</td>\n",
       "      <td>12.26</td>\n",
       "    </tr>\n",
       "    <tr>\n",
       "      <th>3</th>\n",
       "      <td>271162670857</td>\n",
       "      <td>0</td>\n",
       "      <td>10.00</td>\n",
       "      <td>0.5426</td>\n",
       "      <td>0.5426</td>\n",
       "      <td>winemeyer45</td>\n",
       "      <td>0.245098</td>\n",
       "      <td>73396</td>\n",
       "      <td>9174</td>\n",
       "      <td>10.00</td>\n",
       "      <td>...</td>\n",
       "      <td>26</td>\n",
       "      <td>0.270270</td>\n",
       "      <td>0</td>\n",
       "      <td>0</td>\n",
       "      <td>1</td>\n",
       "      <td>583</td>\n",
       "      <td>291</td>\n",
       "      <td>102</td>\n",
       "      <td>25</td>\n",
       "      <td>12.26</td>\n",
       "    </tr>\n",
       "    <tr>\n",
       "      <th>4</th>\n",
       "      <td>310611578768</td>\n",
       "      <td>0</td>\n",
       "      <td>9.99</td>\n",
       "      <td>1.9159</td>\n",
       "      <td>1.9159</td>\n",
       "      <td>chucksmemorabilia</td>\n",
       "      <td>0.295359</td>\n",
       "      <td>73396</td>\n",
       "      <td>17956</td>\n",
       "      <td>9.99</td>\n",
       "      <td>...</td>\n",
       "      <td>53</td>\n",
       "      <td>0.200000</td>\n",
       "      <td>0</td>\n",
       "      <td>1</td>\n",
       "      <td>0</td>\n",
       "      <td>137</td>\n",
       "      <td>44</td>\n",
       "      <td>237</td>\n",
       "      <td>70</td>\n",
       "      <td>3.02</td>\n",
       "    </tr>\n",
       "  </tbody>\n",
       "</table>\n",
       "<p>5 rows × 28 columns</p>\n",
       "</div>"
      ],
      "text/plain": [
       "         EbayID  QuantitySold  Price  PricePercent  StartingBidPercent  \\\n",
       "0  160983189073             1  27.25        1.4787              0.0537   \n",
       "1  390549601720             1  43.00        1.4422              0.3350   \n",
       "2  200901284676             1  11.00        0.5969              0.5426   \n",
       "3  271162670857             0  10.00        0.5426              0.5426   \n",
       "4  310611578768             0   9.99        1.9159              1.9159   \n",
       "\n",
       "          SellerName  SellerClosePercent  Category  PersonID  StartingBid  \\\n",
       "0          petesandi            0.925926     73396      9174         0.99   \n",
       "1         graphn4fun            0.990566     27278     11046         9.99   \n",
       "2      hondo19461946            0.422131     73396      9174        10.00   \n",
       "3        winemeyer45            0.245098     73396      9174        10.00   \n",
       "4  chucksmemorabilia            0.295359     73396     17956         9.99   \n",
       "\n",
       "          ...          AuctionHitCountAvgRatio  BestOffer  ReturnsAccepted  \\\n",
       "0         ...                               29   1.540541                0   \n",
       "1         ...                               55   0.404762                0   \n",
       "2         ...                               21   0.324324                0   \n",
       "3         ...                               26   0.270270                0   \n",
       "4         ...                               53   0.200000                0   \n",
       "\n",
       "   IsHOF  ItemListedCount  AuctionCount  AuctionSaleCount  SellerAuctionCount  \\\n",
       "0      1                1           583               291                  54   \n",
       "1      0                0           120                43                 106   \n",
       "2      1                1           583               291                 244   \n",
       "3      0                1           583               291                 102   \n",
       "4      1                0           137                44                 237   \n",
       "\n",
       "   SellerAuctionSaleCount  AuctionMedianPrice  \n",
       "0                      50               12.26  \n",
       "1                     105               24.45  \n",
       "2                     103               12.26  \n",
       "3                      25               12.26  \n",
       "4                      70                3.02  \n",
       "\n",
       "[5 rows x 28 columns]"
      ]
     },
     "execution_count": 5,
     "metadata": {},
     "output_type": "execute_result"
    }
   ],
   "source": [
    "#Wrangling the Data, With some additional constants.\n",
    "dayDict = {\"Monday\": 0, \"Tuesday\": 1, \"Wednesday\": 2, \"Thursday\": 3, \"Friday\": 4, \"Saturday\": 5, \"Sunday\": 6}\n",
    "df[\"EndDay\"] = df[\"EndDay\"].map(lambda d: dayDict[d])\n",
    "df.head()"
   ]
  },
  {
   "cell_type": "code",
   "execution_count": 11,
   "metadata": {
    "collapsed": true
   },
   "outputs": [],
   "source": [
    "sold = df[df.QuantitySold == 1]"
   ]
  },
  {
   "cell_type": "code",
   "execution_count": 65,
   "metadata": {
    "collapsed": false
   },
   "outputs": [
    {
     "data": {
      "text/html": [
       "<div>\n",
       "<table border=\"1\" class=\"dataframe\">\n",
       "  <thead>\n",
       "    <tr style=\"text-align: right;\">\n",
       "      <th></th>\n",
       "      <th>SellerClosePercent</th>\n",
       "      <th>Category</th>\n",
       "      <th>AvgPrice</th>\n",
       "      <th>EndDay</th>\n",
       "      <th>HitCount</th>\n",
       "      <th>AuctionAvgHitCount</th>\n",
       "      <th>SellerSaleAvgPriceRatio</th>\n",
       "      <th>SellerAvg</th>\n",
       "      <th>SellerItemAvg</th>\n",
       "      <th>AuctionHitCountAvgRatio</th>\n",
       "      <th>IsHOF</th>\n",
       "      <th>AuctionCount</th>\n",
       "      <th>AuctionSaleCount</th>\n",
       "      <th>SellerAuctionCount</th>\n",
       "      <th>SellerAuctionSaleCount</th>\n",
       "      <th>AuctionMedianPrice</th>\n",
       "    </tr>\n",
       "  </thead>\n",
       "  <tbody>\n",
       "    <tr>\n",
       "      <th>0</th>\n",
       "      <td>0.925926</td>\n",
       "      <td>73396</td>\n",
       "      <td>18.4273</td>\n",
       "      <td>1</td>\n",
       "      <td>57</td>\n",
       "      <td>37</td>\n",
       "      <td>0.499142</td>\n",
       "      <td>2.06</td>\n",
       "      <td>56</td>\n",
       "      <td>29</td>\n",
       "      <td>1</td>\n",
       "      <td>583</td>\n",
       "      <td>291</td>\n",
       "      <td>54</td>\n",
       "      <td>50</td>\n",
       "      <td>12.26</td>\n",
       "    </tr>\n",
       "    <tr>\n",
       "      <th>1</th>\n",
       "      <td>0.990566</td>\n",
       "      <td>27278</td>\n",
       "      <td>29.8150</td>\n",
       "      <td>6</td>\n",
       "      <td>34</td>\n",
       "      <td>84</td>\n",
       "      <td>0.358333</td>\n",
       "      <td>0.92</td>\n",
       "      <td>52</td>\n",
       "      <td>55</td>\n",
       "      <td>0</td>\n",
       "      <td>120</td>\n",
       "      <td>43</td>\n",
       "      <td>106</td>\n",
       "      <td>105</td>\n",
       "      <td>24.45</td>\n",
       "    </tr>\n",
       "    <tr>\n",
       "      <th>2</th>\n",
       "      <td>0.422131</td>\n",
       "      <td>73396</td>\n",
       "      <td>18.4273</td>\n",
       "      <td>0</td>\n",
       "      <td>12</td>\n",
       "      <td>37</td>\n",
       "      <td>0.499142</td>\n",
       "      <td>0.91</td>\n",
       "      <td>18</td>\n",
       "      <td>21</td>\n",
       "      <td>1</td>\n",
       "      <td>583</td>\n",
       "      <td>291</td>\n",
       "      <td>244</td>\n",
       "      <td>103</td>\n",
       "      <td>12.26</td>\n",
       "    </tr>\n",
       "    <tr>\n",
       "      <th>5</th>\n",
       "      <td>0.664516</td>\n",
       "      <td>27276</td>\n",
       "      <td>39.4247</td>\n",
       "      <td>0</td>\n",
       "      <td>21</td>\n",
       "      <td>82</td>\n",
       "      <td>0.489362</td>\n",
       "      <td>0.82</td>\n",
       "      <td>93</td>\n",
       "      <td>114</td>\n",
       "      <td>1</td>\n",
       "      <td>47</td>\n",
       "      <td>23</td>\n",
       "      <td>155</td>\n",
       "      <td>103</td>\n",
       "      <td>41.00</td>\n",
       "    </tr>\n",
       "    <tr>\n",
       "      <th>9</th>\n",
       "      <td>0.333333</td>\n",
       "      <td>27278</td>\n",
       "      <td>51.6793</td>\n",
       "      <td>3</td>\n",
       "      <td>11</td>\n",
       "      <td>60</td>\n",
       "      <td>0.281841</td>\n",
       "      <td>3.48</td>\n",
       "      <td>180</td>\n",
       "      <td>52</td>\n",
       "      <td>0</td>\n",
       "      <td>1586</td>\n",
       "      <td>447</td>\n",
       "      <td>3</td>\n",
       "      <td>1</td>\n",
       "      <td>36.00</td>\n",
       "    </tr>\n",
       "  </tbody>\n",
       "</table>\n",
       "</div>"
      ],
      "text/plain": [
       "   SellerClosePercent  Category  AvgPrice  EndDay  HitCount  \\\n",
       "0            0.925926     73396   18.4273       1        57   \n",
       "1            0.990566     27278   29.8150       6        34   \n",
       "2            0.422131     73396   18.4273       0        12   \n",
       "5            0.664516     27276   39.4247       0        21   \n",
       "9            0.333333     27278   51.6793       3        11   \n",
       "\n",
       "   AuctionAvgHitCount  SellerSaleAvgPriceRatio  SellerAvg  SellerItemAvg  \\\n",
       "0                  37                 0.499142       2.06             56   \n",
       "1                  84                 0.358333       0.92             52   \n",
       "2                  37                 0.499142       0.91             18   \n",
       "5                  82                 0.489362       0.82             93   \n",
       "9                  60                 0.281841       3.48            180   \n",
       "\n",
       "   AuctionHitCountAvgRatio  IsHOF  AuctionCount  AuctionSaleCount  \\\n",
       "0                       29      1           583               291   \n",
       "1                       55      0           120                43   \n",
       "2                       21      1           583               291   \n",
       "5                      114      1            47                23   \n",
       "9                       52      0          1586               447   \n",
       "\n",
       "   SellerAuctionCount  SellerAuctionSaleCount  AuctionMedianPrice  \n",
       "0                  54                      50               12.26  \n",
       "1                 106                     105               24.45  \n",
       "2                 244                     103               12.26  \n",
       "5                 155                     103               41.00  \n",
       "9                   3                       1               36.00  "
      ]
     },
     "execution_count": 65,
     "metadata": {},
     "output_type": "execute_result"
    }
   ],
   "source": [
    "X = sold[stprice_features]\n",
    "X.head()"
   ]
  },
  {
   "cell_type": "code",
   "execution_count": 13,
   "metadata": {
    "collapsed": true
   },
   "outputs": [],
   "source": [
    "Y = sold.StartingBid"
   ]
  },
  {
   "cell_type": "code",
   "execution_count": 29,
   "metadata": {
    "collapsed": true
   },
   "outputs": [],
   "source": [
    "test_sold = test_df[test_df.QuantitySold == 1]"
   ]
  },
  {
   "cell_type": "code",
   "execution_count": 30,
   "metadata": {
    "collapsed": true
   },
   "outputs": [],
   "source": [
    "X_test = test_sold[stprice_features]"
   ]
  },
  {
   "cell_type": "code",
   "execution_count": 32,
   "metadata": {
    "collapsed": false
   },
   "outputs": [],
   "source": [
    "Y_test = test_sold.StartingBid"
   ]
  },
  {
   "cell_type": "markdown",
   "metadata": {},
   "source": [
    "### Bayesian Ridge Regression"
   ]
  },
  {
   "cell_type": "code",
   "execution_count": 55,
   "metadata": {
    "collapsed": false
   },
   "outputs": [
    {
     "data": {
      "text/plain": [
       "BayesianRidge(alpha_1=1e-06, alpha_2=1e-06, compute_score=False, copy_X=True,\n",
       "       fit_intercept=True, lambda_1=1e-06, lambda_2=1e-06, n_iter=300,\n",
       "       normalize=False, tol=0.001, verbose=False)"
      ]
     },
     "execution_count": 55,
     "metadata": {},
     "output_type": "execute_result"
    }
   ],
   "source": [
    "##Neural Networks Baby.\n",
    "from sklearn import linear_model\n",
    "reg = linear_model.BayesianRidge()\n",
    "reg.fit(X, Y)"
   ]
  },
  {
   "cell_type": "code",
   "execution_count": 56,
   "metadata": {
    "collapsed": false
   },
   "outputs": [],
   "source": [
    "predicted = reg.predict(X)"
   ]
  },
  {
   "cell_type": "code",
   "execution_count": 57,
   "metadata": {
    "collapsed": false
   },
   "outputs": [],
   "source": [
    "#Checking performance.\n",
    "from sklearn import metrics"
   ]
  },
  {
   "cell_type": "code",
   "execution_count": 60,
   "metadata": {
    "collapsed": false
   },
   "outputs": [
    {
     "name": "stdout",
     "output_type": "stream",
     "text": [
      "1.0\n"
     ]
    }
   ],
   "source": [
    "print(metrics.r2_score(Y,Y))"
   ]
  },
  {
   "cell_type": "markdown",
   "metadata": {},
   "source": [
    "## Something Something Regression"
   ]
  },
  {
   "cell_type": "code",
   "execution_count": 61,
   "metadata": {
    "collapsed": false
   },
   "outputs": [
    {
     "data": {
      "text/plain": [
       "SGDRegressor(alpha=0.0001, average=False, epsilon=0.1, eta0=0.01,\n",
       "       fit_intercept=True, l1_ratio=0.15, learning_rate='invscaling',\n",
       "       loss='squared_loss', n_iter=5, penalty='l2', power_t=0.25,\n",
       "       random_state=None, shuffle=True, verbose=0, warm_start=False)"
      ]
     },
     "execution_count": 61,
     "metadata": {},
     "output_type": "execute_result"
    }
   ],
   "source": [
    "clf2 = linear_model.SGDRegressor()\n",
    "clf2.fit(X, Y)"
   ]
  },
  {
   "cell_type": "code",
   "execution_count": 62,
   "metadata": {
    "collapsed": true
   },
   "outputs": [],
   "source": [
    "SGDpredicted = clf2.predict(X)"
   ]
  },
  {
   "cell_type": "code",
   "execution_count": 63,
   "metadata": {
    "collapsed": false
   },
   "outputs": [
    {
     "name": "stdout",
     "output_type": "stream",
     "text": [
      "-2.56602109304\n"
     ]
    }
   ],
   "source": [
    "print(metrics.r2_score(SGDpredicted,Y))"
   ]
  },
  {
   "cell_type": "markdown",
   "metadata": {},
   "source": [
    "## Something Something Not Linear"
   ]
  },
  {
   "cell_type": "code",
   "execution_count": 64,
   "metadata": {
    "collapsed": true
   },
   "outputs": [],
   "source": [
    "#from sklearn.preprocessing import PolynomialFeatures"
   ]
  },
  {
   "cell_type": "code",
   "execution_count": 66,
   "metadata": {
    "collapsed": false
   },
   "outputs": [
    {
     "ename": "MemoryError",
     "evalue": "",
     "output_type": "error",
     "traceback": [
      "\u001b[0;31m----------------------------------------------------------------------\u001b[0m",
      "\u001b[0;31mMemoryError\u001b[0m                          Traceback (most recent call last)",
      "\u001b[0;32m<ipython-input-66-d587e5a3f987>\u001b[0m in \u001b[0;36m<module>\u001b[0;34m()\u001b[0m\n\u001b[1;32m      1\u001b[0m \u001b[0mpoly\u001b[0m \u001b[1;33m=\u001b[0m \u001b[0mPolynomialFeatures\u001b[0m\u001b[1;33m(\u001b[0m\u001b[0mdegree\u001b[0m\u001b[1;33m=\u001b[0m\u001b[1;36m16\u001b[0m\u001b[1;33m)\u001b[0m\u001b[1;33m\u001b[0m\u001b[0m\n\u001b[0;32m----> 2\u001b[0;31m \u001b[0mpoly\u001b[0m\u001b[1;33m.\u001b[0m\u001b[0mfit_transform\u001b[0m\u001b[1;33m(\u001b[0m\u001b[0mX\u001b[0m\u001b[1;33m)\u001b[0m\u001b[1;33m\u001b[0m\u001b[0m\n\u001b[0m",
      "\u001b[0;32mC:\\Users\\dexte\\Anaconda3\\lib\\site-packages\\sklearn\\base.py\u001b[0m in \u001b[0;36mfit_transform\u001b[0;34m(self, X, y, **fit_params)\u001b[0m\n\u001b[1;32m    492\u001b[0m         \u001b[1;32mif\u001b[0m \u001b[0my\u001b[0m \u001b[1;32mis\u001b[0m \u001b[1;32mNone\u001b[0m\u001b[1;33m:\u001b[0m\u001b[1;33m\u001b[0m\u001b[0m\n\u001b[1;32m    493\u001b[0m             \u001b[1;31m# fit method of arity 1 (unsupervised transformation)\u001b[0m\u001b[1;33m\u001b[0m\u001b[1;33m\u001b[0m\u001b[0m\n\u001b[0;32m--> 494\u001b[0;31m             \u001b[1;32mreturn\u001b[0m \u001b[0mself\u001b[0m\u001b[1;33m.\u001b[0m\u001b[0mfit\u001b[0m\u001b[1;33m(\u001b[0m\u001b[0mX\u001b[0m\u001b[1;33m,\u001b[0m \u001b[1;33m**\u001b[0m\u001b[0mfit_params\u001b[0m\u001b[1;33m)\u001b[0m\u001b[1;33m.\u001b[0m\u001b[0mtransform\u001b[0m\u001b[1;33m(\u001b[0m\u001b[0mX\u001b[0m\u001b[1;33m)\u001b[0m\u001b[1;33m\u001b[0m\u001b[0m\n\u001b[0m\u001b[1;32m    495\u001b[0m         \u001b[1;32melse\u001b[0m\u001b[1;33m:\u001b[0m\u001b[1;33m\u001b[0m\u001b[0m\n\u001b[1;32m    496\u001b[0m             \u001b[1;31m# fit method of arity 2 (supervised transformation)\u001b[0m\u001b[1;33m\u001b[0m\u001b[1;33m\u001b[0m\u001b[0m\n",
      "\u001b[0;32mC:\\Users\\dexte\\Anaconda3\\lib\\site-packages\\sklearn\\preprocessing\\data.py\u001b[0m in \u001b[0;36mtransform\u001b[0;34m(self, X, y)\u001b[0m\n\u001b[1;32m   1287\u001b[0m \u001b[1;33m\u001b[0m\u001b[0m\n\u001b[1;32m   1288\u001b[0m         \u001b[1;31m# allocate output data\u001b[0m\u001b[1;33m\u001b[0m\u001b[1;33m\u001b[0m\u001b[0m\n\u001b[0;32m-> 1289\u001b[0;31m         \u001b[0mXP\u001b[0m \u001b[1;33m=\u001b[0m \u001b[0mnp\u001b[0m\u001b[1;33m.\u001b[0m\u001b[0mempty\u001b[0m\u001b[1;33m(\u001b[0m\u001b[1;33m(\u001b[0m\u001b[0mn_samples\u001b[0m\u001b[1;33m,\u001b[0m \u001b[0mself\u001b[0m\u001b[1;33m.\u001b[0m\u001b[0mn_output_features_\u001b[0m\u001b[1;33m)\u001b[0m\u001b[1;33m,\u001b[0m \u001b[0mdtype\u001b[0m\u001b[1;33m=\u001b[0m\u001b[0mX\u001b[0m\u001b[1;33m.\u001b[0m\u001b[0mdtype\u001b[0m\u001b[1;33m)\u001b[0m\u001b[1;33m\u001b[0m\u001b[0m\n\u001b[0m\u001b[1;32m   1290\u001b[0m \u001b[1;33m\u001b[0m\u001b[0m\n\u001b[1;32m   1291\u001b[0m         combinations = self._combinations(n_features, self.degree,\n",
      "\u001b[0;31mMemoryError\u001b[0m: "
     ]
    }
   ],
   "source": [
    "#poly = PolynomialFeatures(degree=16)\n",
    "#poly.fit_transform(X)"
   ]
  },
  {
   "cell_type": "code",
   "execution_count": null,
   "metadata": {
    "collapsed": true
   },
   "outputs": [],
   "source": []
  }
 ],
 "metadata": {
  "kernelspec": {
   "display_name": "Python [conda root]",
   "language": "python",
   "name": "conda-root-py"
  },
  "language_info": {
   "codemirror_mode": {
    "name": "ipython",
    "version": 3
   },
   "file_extension": ".py",
   "mimetype": "text/x-python",
   "name": "python",
   "nbconvert_exporter": "python",
   "pygments_lexer": "ipython3",
   "version": "3.5.2"
  }
 },
 "nbformat": 4,
 "nbformat_minor": 1
}
